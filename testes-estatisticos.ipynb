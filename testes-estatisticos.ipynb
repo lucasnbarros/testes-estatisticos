{
 "cells": [
  {
   "cell_type": "markdown",
   "metadata": {
    "id": "Z9M-Mwzcxc1T"
   },
   "source": [
    "# Imports"
   ]
  },
  {
   "cell_type": "code",
   "execution_count": 1,
   "metadata": {
    "colab": {
     "base_uri": "https://localhost:8080/"
    },
    "executionInfo": {
     "elapsed": 4270,
     "status": "ok",
     "timestamp": 1638864970274,
     "user": {
      "displayName": "Lucas Nascimento Barros",
      "photoUrl": "https://lh3.googleusercontent.com/a-/AOh14GgrwsR4kAWXNmM-C4P-CXv6DetVJyf56vtdC_IkQw=s64",
      "userId": "06035058941685765175"
     },
     "user_tz": 180
    },
    "id": "MFvf-Wkl71if",
    "outputId": "afec4098-a45b-4ae7-b038-fdfaea04ea47"
   },
   "outputs": [
    {
     "name": "stdout",
     "output_type": "stream",
     "text": [
      "Collecting quickdraw\n",
      "  Downloading quickdraw-0.2.0-py3-none-any.whl (10 kB)\n",
      "Requirement already satisfied: pillow in /usr/local/lib/python3.7/dist-packages (from quickdraw) (7.1.2)\n",
      "Requirement already satisfied: requests in /usr/local/lib/python3.7/dist-packages (from quickdraw) (2.23.0)\n",
      "Requirement already satisfied: chardet<4,>=3.0.2 in /usr/local/lib/python3.7/dist-packages (from requests->quickdraw) (3.0.4)\n",
      "Requirement already satisfied: urllib3!=1.25.0,!=1.25.1,<1.26,>=1.21.1 in /usr/local/lib/python3.7/dist-packages (from requests->quickdraw) (1.24.3)\n",
      "Requirement already satisfied: idna<3,>=2.5 in /usr/local/lib/python3.7/dist-packages (from requests->quickdraw) (2.10)\n",
      "Requirement already satisfied: certifi>=2017.4.17 in /usr/local/lib/python3.7/dist-packages (from requests->quickdraw) (2021.10.8)\n",
      "Installing collected packages: quickdraw\n",
      "Successfully installed quickdraw-0.2.0\n"
     ]
    }
   ],
   "source": [
    "!pip install quickdraw"
   ]
  },
  {
   "cell_type": "code",
   "execution_count": 2,
   "metadata": {
    "colab": {
     "base_uri": "https://localhost:8080/"
    },
    "executionInfo": {
     "elapsed": 3638,
     "status": "ok",
     "timestamp": 1638864973908,
     "user": {
      "displayName": "Lucas Nascimento Barros",
      "photoUrl": "https://lh3.googleusercontent.com/a-/AOh14GgrwsR4kAWXNmM-C4P-CXv6DetVJyf56vtdC_IkQw=s64",
      "userId": "06035058941685765175"
     },
     "user_tz": 180
    },
    "id": "Kp5Ng8E3EVe1",
    "outputId": "726aeac4-c650-44e2-d075-904ca86aed46"
   },
   "outputs": [
    {
     "name": "stdout",
     "output_type": "stream",
     "text": [
      "Collecting scikeras\n",
      "  Downloading scikeras-0.6.0-py3-none-any.whl (27 kB)\n",
      "Collecting importlib-metadata<4,>=3\n",
      "  Downloading importlib_metadata-3.10.1-py3-none-any.whl (14 kB)\n",
      "Requirement already satisfied: packaging<22.0,>=0.21 in /usr/local/lib/python3.7/dist-packages (from scikeras) (21.3)\n",
      "Requirement already satisfied: scikit-learn>=1.0.0 in /usr/local/lib/python3.7/dist-packages (from scikeras) (1.0.1)\n",
      "Requirement already satisfied: zipp>=0.5 in /usr/local/lib/python3.7/dist-packages (from importlib-metadata<4,>=3->scikeras) (3.6.0)\n",
      "Requirement already satisfied: typing-extensions>=3.6.4 in /usr/local/lib/python3.7/dist-packages (from importlib-metadata<4,>=3->scikeras) (3.10.0.2)\n",
      "Requirement already satisfied: pyparsing!=3.0.5,>=2.0.2 in /usr/local/lib/python3.7/dist-packages (from packaging<22.0,>=0.21->scikeras) (3.0.6)\n",
      "Requirement already satisfied: threadpoolctl>=2.0.0 in /usr/local/lib/python3.7/dist-packages (from scikit-learn>=1.0.0->scikeras) (3.0.0)\n",
      "Requirement already satisfied: joblib>=0.11 in /usr/local/lib/python3.7/dist-packages (from scikit-learn>=1.0.0->scikeras) (1.1.0)\n",
      "Requirement already satisfied: scipy>=1.1.0 in /usr/local/lib/python3.7/dist-packages (from scikit-learn>=1.0.0->scikeras) (1.4.1)\n",
      "Requirement already satisfied: numpy>=1.14.6 in /usr/local/lib/python3.7/dist-packages (from scikit-learn>=1.0.0->scikeras) (1.19.5)\n",
      "Installing collected packages: importlib-metadata, scikeras\n",
      "  Attempting uninstall: importlib-metadata\n",
      "    Found existing installation: importlib-metadata 4.8.2\n",
      "    Uninstalling importlib-metadata-4.8.2:\n",
      "      Successfully uninstalled importlib-metadata-4.8.2\n",
      "\u001b[31mERROR: pip's dependency resolver does not currently take into account all the packages that are installed. This behaviour is the source of the following dependency conflicts.\n",
      "markdown 3.3.6 requires importlib-metadata>=4.4; python_version < \"3.10\", but you have importlib-metadata 3.10.1 which is incompatible.\u001b[0m\n",
      "Successfully installed importlib-metadata-3.10.1 scikeras-0.6.0\n"
     ]
    }
   ],
   "source": [
    "!pip install scikeras"
   ]
  },
  {
   "cell_type": "code",
   "execution_count": 3,
   "metadata": {
    "executionInfo": {
     "elapsed": 3975,
     "status": "ok",
     "timestamp": 1638864977875,
     "user": {
      "displayName": "Lucas Nascimento Barros",
      "photoUrl": "https://lh3.googleusercontent.com/a-/AOh14GgrwsR4kAWXNmM-C4P-CXv6DetVJyf56vtdC_IkQw=s64",
      "userId": "06035058941685765175"
     },
     "user_tz": 180
    },
    "id": "_YcooQ6ADN7H"
   },
   "outputs": [],
   "source": [
    "import os\n",
    "import glob\n",
    "import numpy as np\n",
    "import pandas as pd\n",
    "import urllib.request\n",
    "import matplotlib.pyplot as plt\n",
    "import matplotlib.patheffects as PathEffects\n",
    "import matplotlib\n",
    "import seaborn as sns\n",
    "\n",
    "import tensorflow as tf\n",
    "from tensorflow.keras import layers\n",
    "from tensorflow import keras \n",
    "\n",
    "from keras.models import Sequential\n",
    "from keras.layers import Dense, Dropout, Conv2D, MaxPooling2D, Flatten,LSTM\n",
    "from keras.utils import np_utils\n",
    "\n",
    "from sklearn.manifold import TSNE\n",
    "from sklearn.metrics import confusion_matrix\n",
    "from sklearn.model_selection import GridSearchCV\n",
    "from sklearn.model_selection import cross_validate\n",
    "\n",
    "from quickdraw import QuickDrawDataGroup, QuickDrawData\n",
    "from scikeras.wrappers import KerasClassifier"
   ]
  },
  {
   "cell_type": "markdown",
   "metadata": {
    "id": "vXFnFl8J8727"
   },
   "source": [
    "# Carregamento dos dados"
   ]
  },
  {
   "cell_type": "code",
   "execution_count": 4,
   "metadata": {
    "executionInfo": {
     "elapsed": 6,
     "status": "ok",
     "timestamp": 1638864977876,
     "user": {
      "displayName": "Lucas Nascimento Barros",
      "photoUrl": "https://lh3.googleusercontent.com/a-/AOh14GgrwsR4kAWXNmM-C4P-CXv6DetVJyf56vtdC_IkQw=s64",
      "userId": "06035058941685765175"
     },
     "user_tz": 180
    },
    "id": "UuC9rxGs8NKj"
   },
   "outputs": [],
   "source": [
    "#Separando as classes de desenhos\n",
    "MAX_DRAWINGS = 1000\n",
    "\n",
    "images_labels = ['bee',\n",
    "  'coffee cup',\n",
    "  'guitar',\n",
    "  'hamburger',\n",
    "  'rabbit',\n",
    "  'truck',\n",
    "  'umbrella',\n",
    "  'crab',\n",
    "  'banana',\n",
    "  'airplane']"
   ]
  },
  {
   "cell_type": "code",
   "execution_count": 5,
   "metadata": {
    "colab": {
     "base_uri": "https://localhost:8080/"
    },
    "executionInfo": {
     "elapsed": 7184,
     "status": "ok",
     "timestamp": 1638864985055,
     "user": {
      "displayName": "Lucas Nascimento Barros",
      "photoUrl": "https://lh3.googleusercontent.com/a-/AOh14GgrwsR4kAWXNmM-C4P-CXv6DetVJyf56vtdC_IkQw=s64",
      "userId": "06035058941685765175"
     },
     "user_tz": 180
    },
    "id": "DGgGDWNi8VFS",
    "outputId": "98cb89f2-ae02-43ff-d166-2c83e5016c56"
   },
   "outputs": [
    {
     "name": "stdout",
     "output_type": "stream",
     "text": [
      "downloading bee from https://storage.googleapis.com/quickdraw_dataset/full/binary/bee.bin\n",
      "download complete\n",
      "loading bee drawings\n",
      "load complete\n",
      "downloading coffee cup from https://storage.googleapis.com/quickdraw_dataset/full/binary/coffee cup.bin\n",
      "download complete\n",
      "loading coffee cup drawings\n",
      "load complete\n",
      "downloading guitar from https://storage.googleapis.com/quickdraw_dataset/full/binary/guitar.bin\n",
      "download complete\n",
      "loading guitar drawings\n",
      "load complete\n",
      "downloading hamburger from https://storage.googleapis.com/quickdraw_dataset/full/binary/hamburger.bin\n",
      "download complete\n",
      "loading hamburger drawings\n",
      "load complete\n",
      "downloading rabbit from https://storage.googleapis.com/quickdraw_dataset/full/binary/rabbit.bin\n",
      "download complete\n",
      "loading rabbit drawings\n",
      "load complete\n",
      "downloading truck from https://storage.googleapis.com/quickdraw_dataset/full/binary/truck.bin\n",
      "download complete\n",
      "loading truck drawings\n",
      "load complete\n",
      "downloading umbrella from https://storage.googleapis.com/quickdraw_dataset/full/binary/umbrella.bin\n",
      "download complete\n",
      "loading umbrella drawings\n",
      "load complete\n",
      "downloading crab from https://storage.googleapis.com/quickdraw_dataset/full/binary/crab.bin\n",
      "download complete\n",
      "loading crab drawings\n",
      "load complete\n",
      "downloading banana from https://storage.googleapis.com/quickdraw_dataset/full/binary/banana.bin\n",
      "download complete\n",
      "loading banana drawings\n",
      "load complete\n",
      "downloading airplane from https://storage.googleapis.com/quickdraw_dataset/full/binary/airplane.bin\n",
      "download complete\n",
      "loading airplane drawings\n",
      "load complete\n"
     ]
    }
   ],
   "source": [
    "#carregando o grupo de desenhos \n",
    "images = list(map(lambda x: QuickDrawDataGroup(x, max_drawings=MAX_DRAWINGS), images_labels))"
   ]
  },
  {
   "cell_type": "code",
   "execution_count": 6,
   "metadata": {
    "colab": {
     "base_uri": "https://localhost:8080/"
    },
    "executionInfo": {
     "elapsed": 16,
     "status": "ok",
     "timestamp": 1638864985056,
     "user": {
      "displayName": "Lucas Nascimento Barros",
      "photoUrl": "https://lh3.googleusercontent.com/a-/AOh14GgrwsR4kAWXNmM-C4P-CXv6DetVJyf56vtdC_IkQw=s64",
      "userId": "06035058941685765175"
     },
     "user_tz": 180
    },
    "id": "aHMZMF93wAcH",
    "outputId": "42d3c3c5-34d7-4c1b-e4db-c0ac6719d408"
   },
   "outputs": [
    {
     "data": {
      "text/plain": [
       "['bee',\n",
       " 'coffee cup',\n",
       " 'guitar',\n",
       " 'hamburger',\n",
       " 'rabbit',\n",
       " 'truck',\n",
       " 'umbrella',\n",
       " 'crab',\n",
       " 'banana',\n",
       " 'airplane']"
      ]
     },
     "execution_count": 6,
     "metadata": {},
     "output_type": "execute_result"
    }
   ],
   "source": [
    "images_labels"
   ]
  },
  {
   "cell_type": "code",
   "execution_count": 7,
   "metadata": {
    "executionInfo": {
     "elapsed": 13,
     "status": "ok",
     "timestamp": 1638864985056,
     "user": {
      "displayName": "Lucas Nascimento Barros",
      "photoUrl": "https://lh3.googleusercontent.com/a-/AOh14GgrwsR4kAWXNmM-C4P-CXv6DetVJyf56vtdC_IkQw=s64",
      "userId": "06035058941685765175"
     },
     "user_tz": 180
    },
    "id": "21qC2em71SKp"
   },
   "outputs": [],
   "source": [
    "class_names = ['bee','cup','guitar','hamburger','rabbit','truck','umbrella','crab','banana','airplane']\n",
    "\n",
    "RS = 20150101\n",
    "\n",
    "import seaborn as sns\n",
    "sns.set_style('darkgrid')\n",
    "sns.set_palette('muted')\n",
    "sns.set_context(\"notebook\", font_scale=1.5,\n",
    "                rc={\"lines.linewidth\": 2.5})\n",
    "\n",
    "def download_and_load(test_split = 0.2, max_items_per_class = 10000):\n",
    "  root = 'data2'\n",
    "  os.mkdir('data2')\n",
    "  print('downloading ...')\n",
    "  base = 'https://storage.googleapis.com/quickdraw_dataset/full/numpy_bitmap/'\n",
    "  for c in class_names:\n",
    "    path = base+c+'.npy'\n",
    "    print(path)\n",
    "    urllib.request.urlretrieve(path, f'{root}/{c}.npy')\n",
    "  print('loading ...')\n",
    "  \n",
    "  #inicializar variáveis \n",
    "  x = np.empty([0, 784])\n",
    "  y = np.empty([0])\n",
    "\n",
    "  #carregar cada arquivo de dados\n",
    "  for idx, file in enumerate(class_names):\n",
    "      data = np.load(f'{root}/{file}.npy')\n",
    "      data = data[0: max_items_per_class, :]\n",
    "      labels = np.full(data.shape[0], idx)\n",
    "\n",
    "      x = np.concatenate((x, data), axis=0)\n",
    "      y = np.append(y, labels)\n",
    "\n",
    "  data = None\n",
    "  labels = None\n",
    "\n",
    "  #randomizar o conjunto de dados  \n",
    "  permutation = np.random.permutation(y.shape[0])\n",
    "  x = x[permutation, :]\n",
    "  y = y[permutation]\n",
    "\n",
    "  #remodelar e inverter as cores\n",
    "  x = 255 - np.reshape(x, (x.shape[0], 28, 28))\n",
    "\n",
    "  #separar em treinamento e teste \n",
    "  test_size  = int(x.shape[0]/100*(test_split*100))\n",
    "\n",
    "  x_test = x[0:test_size, :]\n",
    "  y_test = y[0:test_size]\n",
    "\n",
    "  x_train = x[test_size:x.shape[0], :]\n",
    "  y_train = y[test_size:y.shape[0]]\n",
    "  \n",
    "  print('Training Data : ', x_train.shape[0])\n",
    "  print('Testing  Data : ', x_test.shape[0])\n",
    "  return x_train, y_train, x_test, y_test, class_names\n",
    "\n",
    "def scatter(x, colors):\n",
    "    # Paleta de cores com seaborn.\n",
    "    palette = np.array(sns.color_palette(\"hls\", 10))\n",
    "\n",
    "    # criando gráfico de dispersão.\n",
    "    f = plt.figure(figsize=(8, 8))\n",
    "    ax = plt.subplot(aspect='equal')\n",
    "    sc = ax.scatter(x[:,0], x[:,1], lw=0, s=40,\n",
    "                    c=palette[colors.astype(np.int)])\n",
    "    plt.xlim(-25, 25)\n",
    "    plt.ylim(-25, 25)\n",
    "    ax.axis('off')\n",
    "    ax.axis('tight')\n",
    "\n",
    "    txts = []\n",
    "    for i in range(10):\n",
    "        \n",
    "        xtext, ytext = np.median(x[colors == i, :], axis=0)\n",
    "        txt = ax.text(xtext, ytext, class_names[i], fontsize=15)\n",
    "        txt.set_path_effects([\n",
    "            PathEffects.Stroke(linewidth=5, foreground=\"w\"),\n",
    "            PathEffects.Normal()])\n",
    "        txts.append(txt)\n",
    "        \n",
    "def plot_tsne(X, y):\n",
    "  print('calculating tsne ...')\n",
    "  proj = TSNE(random_state=RS).fit_transform(X)\n",
    "  scatter(proj, y)"
   ]
  },
  {
   "cell_type": "code",
   "execution_count": 8,
   "metadata": {
    "colab": {
     "base_uri": "https://localhost:8080/"
    },
    "executionInfo": {
     "elapsed": 14137,
     "status": "ok",
     "timestamp": 1638864999180,
     "user": {
      "displayName": "Lucas Nascimento Barros",
      "photoUrl": "https://lh3.googleusercontent.com/a-/AOh14GgrwsR4kAWXNmM-C4P-CXv6DetVJyf56vtdC_IkQw=s64",
      "userId": "06035058941685765175"
     },
     "user_tz": 180
    },
    "id": "qK7d2frR1xwu",
    "outputId": "0810ae3b-2bfb-4971-d533-331ec19f0a9b"
   },
   "outputs": [
    {
     "name": "stdout",
     "output_type": "stream",
     "text": [
      "downloading ...\n",
      "https://storage.googleapis.com/quickdraw_dataset/full/numpy_bitmap/bee.npy\n",
      "https://storage.googleapis.com/quickdraw_dataset/full/numpy_bitmap/cup.npy\n",
      "https://storage.googleapis.com/quickdraw_dataset/full/numpy_bitmap/guitar.npy\n",
      "https://storage.googleapis.com/quickdraw_dataset/full/numpy_bitmap/hamburger.npy\n",
      "https://storage.googleapis.com/quickdraw_dataset/full/numpy_bitmap/rabbit.npy\n",
      "https://storage.googleapis.com/quickdraw_dataset/full/numpy_bitmap/truck.npy\n",
      "https://storage.googleapis.com/quickdraw_dataset/full/numpy_bitmap/umbrella.npy\n",
      "https://storage.googleapis.com/quickdraw_dataset/full/numpy_bitmap/crab.npy\n",
      "https://storage.googleapis.com/quickdraw_dataset/full/numpy_bitmap/banana.npy\n",
      "https://storage.googleapis.com/quickdraw_dataset/full/numpy_bitmap/airplane.npy\n",
      "loading ...\n",
      "Training Data :  80000\n",
      "Testing  Data :  20000\n"
     ]
    }
   ],
   "source": [
    "x_train, y_train, x_test, y_test, class_names = download_and_load()"
   ]
  },
  {
   "cell_type": "code",
   "execution_count": 9,
   "metadata": {
    "colab": {
     "base_uri": "https://localhost:8080/"
    },
    "executionInfo": {
     "elapsed": 12,
     "status": "ok",
     "timestamp": 1638864999180,
     "user": {
      "displayName": "Lucas Nascimento Barros",
      "photoUrl": "https://lh3.googleusercontent.com/a-/AOh14GgrwsR4kAWXNmM-C4P-CXv6DetVJyf56vtdC_IkQw=s64",
      "userId": "06035058941685765175"
     },
     "user_tz": 180
    },
    "id": "T02iGeGZ1hrA",
    "outputId": "b9cdc3cf-302e-40d4-9053-3d4c7cfae916"
   },
   "outputs": [
    {
     "data": {
      "text/plain": [
       "['bee',\n",
       " 'cup',\n",
       " 'guitar',\n",
       " 'hamburger',\n",
       " 'rabbit',\n",
       " 'truck',\n",
       " 'umbrella',\n",
       " 'crab',\n",
       " 'banana',\n",
       " 'airplane']"
      ]
     },
     "execution_count": 9,
     "metadata": {},
     "output_type": "execute_result"
    }
   ],
   "source": [
    "class_names"
   ]
  },
  {
   "cell_type": "markdown",
   "metadata": {
    "id": "JQYiXtgcltQB"
   },
   "source": [
    "# Visualização"
   ]
  },
  {
   "cell_type": "code",
   "execution_count": null,
   "metadata": {
    "id": "BRuG9c7I1mk9"
   },
   "outputs": [],
   "source": [
    "def visualize_classes():\n",
    "  for i in range(0, 10):\n",
    "    img_batch = x_train[y_train == i][0:10]\n",
    "    img_batch = np.reshape(img_batch, (img_batch.shape[0]*img_batch.shape[1], img_batch.shape[2]))\n",
    "    if i > 0:\n",
    "      img = np.concatenate([img, img_batch], axis = 1)\n",
    "    else:\n",
    "      img = img_batch\n",
    "  plt.figure(figsize=(10,20))\n",
    "  plt.axis('off')\n",
    "  plt.imshow(img)"
   ]
  },
  {
   "cell_type": "code",
   "execution_count": null,
   "metadata": {
    "colab": {
     "base_uri": "https://localhost:8080/",
     "height": 589
    },
    "executionInfo": {
     "elapsed": 1642,
     "status": "ok",
     "timestamp": 1638835171979,
     "user": {
      "displayName": "Erivaldo Chaves da Silva",
      "photoUrl": "https://lh3.googleusercontent.com/a-/AOh14GhachozVdnc7avgHzzKA5pVz1hSBpgBMDSJ7XSnXA=s64",
      "userId": "04793924731866278111"
     },
     "user_tz": 180
    },
    "id": "LXKtxGIB1poG",
    "outputId": "e9f3628a-6ba8-4b0b-a9df-9f881b20db08"
   },
   "outputs": [
    {
     "data": {
      "image/png": "[encoded data removed]",
      "text/plain": [
       "<Figure size 720x1440 with 1 Axes>"
      ]
     },
     "metadata": {},
     "output_type": "display_data"
    }
   ],
   "source": [
    "#Visualização das classes\n",
    "\n",
    "visualize_classes()"
   ]
  },
  {
   "cell_type": "code",
   "execution_count": null,
   "metadata": {
    "colab": {
     "base_uri": "https://localhost:8080/",
     "height": 578
    },
    "executionInfo": {
     "elapsed": 9185,
     "status": "ok",
     "timestamp": 1638835194901,
     "user": {
      "displayName": "Erivaldo Chaves da Silva",
      "photoUrl": "https://lh3.googleusercontent.com/a-/AOh14GhachozVdnc7avgHzzKA5pVz1hSBpgBMDSJ7XSnXA=s64",
      "userId": "04793924731866278111"
     },
     "user_tz": 180
    },
    "id": "UWsvbTwV6e8T",
    "outputId": "3da2f4b5-d665-4bf3-dedc-6423c981735c"
   },
   "outputs": [
    {
     "name": "stdout",
     "output_type": "stream",
     "text": [
      "calculating tsne ...\n"
     ]
    },
    {
     "name": "stderr",
     "output_type": "stream",
     "text": [
      "/usr/local/lib/python3.7/dist-packages/sklearn/manifold/_t_sne.py:783: FutureWarning: The default initialization in TSNE will change from 'random' to 'pca' in 1.2.\n",
      "  FutureWarning,\n",
      "/usr/local/lib/python3.7/dist-packages/sklearn/manifold/_t_sne.py:793: FutureWarning: The default learning rate in TSNE will change from 200.0 to 'auto' in 1.2.\n",
      "  FutureWarning,\n"
     ]
    },
    {
     "data": {
      "image/png": "[encoded data removed]",
      "text/plain": [
       "<Figure size 576x576 with 1 Axes>"
      ]
     },
     "metadata": {},
     "output_type": "display_data"
    }
   ],
   "source": [
    "#Distribuição dos Etiquetas\n",
    "\n",
    "# Traçar uma distribuição t-sne de 1000 amostras do conjunto de treinamento\n",
    "# Ele converte semelhanças entre pontos de dados em probabilidades conjuntas\n",
    "\n",
    "X = np.reshape(x_train, (x_train.shape[0], 28 * 28))[0:1000]\n",
    "y = y_train[0:1000]\n",
    "\n",
    "plot_tsne(X, y)"
   ]
  },
  {
   "cell_type": "markdown",
   "metadata": {
    "id": "Is9uf2FsmoFn"
   },
   "source": [
    "# Pré-processamento"
   ]
  },
  {
   "cell_type": "code",
   "execution_count": 15,
   "metadata": {
    "executionInfo": {
     "elapsed": 300,
     "status": "ok",
     "timestamp": 1638865346891,
     "user": {
      "displayName": "Lucas Nascimento Barros",
      "photoUrl": "https://lh3.googleusercontent.com/a-/AOh14GgrwsR4kAWXNmM-C4P-CXv6DetVJyf56vtdC_IkQw=s64",
      "userId": "06035058941685765175"
     },
     "user_tz": 180
    },
    "id": "1gszJLmQmd2Q"
   },
   "outputs": [],
   "source": [
    "image_size = 28\n",
    "\n",
    "# Remodelar e normalizar \n",
    "x_train = x_train.reshape(x_train.shape[0], image_size, image_size, 1).astype('float32')\n",
    "x_test = x_test.reshape(x_test.shape[0], image_size, image_size, 1).astype('float32')\n",
    "\n",
    "x_train /= 255.0\n",
    "x_test /= 255.0\n",
    "\n",
    "# Converter vetores de classe em matrizes de classe\n",
    "y_train = keras.utils.to_categorical(y_train, len(class_names))\n",
    "y_test = keras.utils.to_categorical(y_test, len(class_names))"
   ]
  },
  {
   "cell_type": "markdown",
   "metadata": {
    "id": "jlgGgSwGxJ2o"
   },
   "source": [
    "# CNN"
   ]
  },
  {
   "cell_type": "markdown",
   "metadata": {
    "id": "5hJW5Nrf-LIq"
   },
   "source": [
    "## model_cnn"
   ]
  },
  {
   "cell_type": "code",
   "execution_count": 192,
   "metadata": {
    "colab": {
     "base_uri": "https://localhost:8080/"
    },
    "executionInfo": {
     "elapsed": 289,
     "status": "ok",
     "timestamp": 1638903814358,
     "user": {
      "displayName": "Lucas Nascimento Barros",
      "photoUrl": "https://lh3.googleusercontent.com/a-/AOh14GgrwsR4kAWXNmM-C4P-CXv6DetVJyf56vtdC_IkQw=s64",
      "userId": "06035058941685765175"
     },
     "user_tz": 180
    },
    "id": "Y-6uVfdNgjC7",
    "outputId": "40a75457-2085-4a9d-e633-1c5fc2d67b4a"
   },
   "outputs": [
    {
     "name": "stdout",
     "output_type": "stream",
     "text": [
      "Model: \"sequential_110\"\n",
      "_________________________________________________________________\n",
      " Layer (type)                Output Shape              Param #   \n",
      "=================================================================\n",
      " conv2d_106 (Conv2D)         (None, 24, 24, 32)        832       \n",
      "                                                                 \n",
      " max_pooling2d_107 (MaxPooli  (None, 12, 12, 32)       0         \n",
      " ng2D)                                                           \n",
      "                                                                 \n",
      " conv2d_107 (Conv2D)         (None, 8, 8, 64)          51264     \n",
      "                                                                 \n",
      " max_pooling2d_108 (MaxPooli  (None, 4, 4, 64)         0         \n",
      " ng2D)                                                           \n",
      "                                                                 \n",
      " flatten_42 (Flatten)        (None, 1024)              0         \n",
      "                                                                 \n",
      " dense_193 (Dense)           (None, 512)               524800    \n",
      "                                                                 \n",
      " dropout_271 (Dropout)       (None, 512)               0         \n",
      "                                                                 \n",
      " dense_194 (Dense)           (None, 128)               65664     \n",
      "                                                                 \n",
      " dropout_272 (Dropout)       (None, 128)               0         \n",
      "                                                                 \n",
      " dense_195 (Dense)           (None, 10)                1290      \n",
      "                                                                 \n",
      "=================================================================\n",
      "Total params: 643,850\n",
      "Trainable params: 643,850\n",
      "Non-trainable params: 0\n",
      "_________________________________________________________________\n"
     ]
    }
   ],
   "source": [
    "model_cnn = keras.Sequential()\n",
    "model_cnn = Sequential()\n",
    "model_cnn.add(Conv2D(32, (5, 5), input_shape=(28,28, 1), activation='relu'))\n",
    "model_cnn.add(MaxPooling2D(pool_size=(2, 2), strides=(2, 2), padding='same'))\n",
    "model_cnn.add(Conv2D(64, (5, 5), activation='relu'))\n",
    "model_cnn.add(MaxPooling2D(pool_size=(2, 2), strides=(2, 2), padding='same'))\n",
    "model_cnn.add(Flatten())\n",
    "model_cnn.add(Dense(512, activation='relu'))\n",
    "model_cnn.add(Dropout(0.6))\n",
    "model_cnn.add(Dense(128, activation='relu'))\n",
    "model_cnn.add(Dropout(0.6))\n",
    "model_cnn.add(Dense(len(class_names), activation='softmax'))\n",
    "model_cnn.compile(optimizer='Adam',loss=\"categorical_crossentropy\",metrics=['accuracy'])\n",
    "model_cnn.summary()"
   ]
  },
  {
   "cell_type": "code",
   "execution_count": 193,
   "metadata": {
    "colab": {
     "base_uri": "https://localhost:8080/"
    },
    "executionInfo": {
     "elapsed": 398328,
     "status": "ok",
     "timestamp": 1638904214339,
     "user": {
      "displayName": "Lucas Nascimento Barros",
      "photoUrl": "https://lh3.googleusercontent.com/a-/AOh14GgrwsR4kAWXNmM-C4P-CXv6DetVJyf56vtdC_IkQw=s64",
      "userId": "06035058941685765175"
     },
     "user_tz": 180
    },
    "id": "HgdK9W9lf-zH",
    "outputId": "d5981264-0172-4da0-aaa8-6a58eb1ce30a"
   },
   "outputs": [
    {
     "name": "stdout",
     "output_type": "stream",
     "text": [
      "Epoch 1/5\n",
      "1000/1000 [==============================] - 81s 80ms/step - loss: 0.8101 - accuracy: 0.7448 - val_loss: 0.3669 - val_accuracy: 0.8865\n",
      "Epoch 2/5\n",
      "1000/1000 [==============================] - 80s 80ms/step - loss: 0.4040 - accuracy: 0.8850 - val_loss: 0.3178 - val_accuracy: 0.9057\n",
      "Epoch 3/5\n",
      "1000/1000 [==============================] - 79s 79ms/step - loss: 0.3329 - accuracy: 0.9073 - val_loss: 0.2566 - val_accuracy: 0.9229\n",
      "Epoch 4/5\n",
      "1000/1000 [==============================] - 79s 79ms/step - loss: 0.2926 - accuracy: 0.9188 - val_loss: 0.2396 - val_accuracy: 0.9296\n",
      "Epoch 5/5\n",
      "1000/1000 [==============================] - 79s 79ms/step - loss: 0.2679 - accuracy: 0.9237 - val_loss: 0.2256 - val_accuracy: 0.9345\n"
     ]
    },
    {
     "data": {
      "text/plain": [
       "<keras.callbacks.History at 0x7f67d3d89710>"
      ]
     },
     "execution_count": 193,
     "metadata": {},
     "output_type": "execute_result"
    }
   ],
   "source": [
    "model_cnn.fit(x_train, y_train, validation_split=0.2,validation_data=(x_test, y_test), epochs=5,batch_size=64)"
   ]
  },
  {
   "cell_type": "code",
   "execution_count": 194,
   "metadata": {
    "executionInfo": {
     "elapsed": 280,
     "status": "ok",
     "timestamp": 1638904464265,
     "user": {
      "displayName": "Lucas Nascimento Barros",
      "photoUrl": "https://lh3.googleusercontent.com/a-/AOh14GgrwsR4kAWXNmM-C4P-CXv6DetVJyf56vtdC_IkQw=s64",
      "userId": "06035058941685765175"
     },
     "user_tz": 180
    },
    "id": "gz7VZ4LB7eoz"
   },
   "outputs": [],
   "source": [
    "model_cnn.save('models/model_cnn.h5')"
   ]
  },
  {
   "cell_type": "markdown",
   "metadata": {
    "id": "Y_vlwNn3-AZm"
   },
   "source": [
    "## GridSearchCV"
   ]
  },
  {
   "cell_type": "code",
   "execution_count": 110,
   "metadata": {
    "executionInfo": {
     "elapsed": 291,
     "status": "ok",
     "timestamp": 1638885596827,
     "user": {
      "displayName": "Lucas Nascimento Barros",
      "photoUrl": "https://lh3.googleusercontent.com/a-/AOh14GgrwsR4kAWXNmM-C4P-CXv6DetVJyf56vtdC_IkQw=s64",
      "userId": "06035058941685765175"
     },
     "user_tz": 180
    },
    "id": "Bf4qbshvRZZa"
   },
   "outputs": [],
   "source": [
    "def model_cnn_grid():\n",
    "    model_cnn_grid = keras.Sequential()\n",
    "    model_cnn_grid.add(layers.Convolution2D(16, (3, 3),\n",
    "                            padding='same',\n",
    "                            input_shape=x_train.shape[1:],\n",
    "                            activation='relu'))\n",
    "    model_cnn_grid.add(layers.MaxPooling2D(pool_size=(2, 2)))\n",
    "    model_cnn_grid.add(layers.Convolution2D(32, (3, 3), padding='same', activation= 'relu'))\n",
    "    model_cnn_grid.add(layers.MaxPooling2D(pool_size=(2, 2)))\n",
    "    model_cnn_grid.add(layers.Convolution2D(64, (3, 3), padding='same', activation= 'relu'))\n",
    "    model_cnn_grid.add(layers.MaxPooling2D(pool_size =(2,2)))\n",
    "    model_cnn_grid.add(layers.Flatten())\n",
    "    model_cnn_grid.add(layers.Dense(128, activation='tanh'))\n",
    "    model_cnn_grid.add(layers.Dense(len(class_names), activation='softmax')) \n",
    "    return model_cnn_grid"
   ]
  },
  {
   "cell_type": "code",
   "execution_count": 111,
   "metadata": {
    "executionInfo": {
     "elapsed": 267,
     "status": "ok",
     "timestamp": 1638885598374,
     "user": {
      "displayName": "Lucas Nascimento Barros",
      "photoUrl": "https://lh3.googleusercontent.com/a-/AOh14GgrwsR4kAWXNmM-C4P-CXv6DetVJyf56vtdC_IkQw=s64",
      "userId": "06035058941685765175"
     },
     "user_tz": 180
    },
    "id": "9bGiDntHP17Q"
   },
   "outputs": [],
   "source": [
    "cnn_grid = KerasClassifier(model_cnn_grid,\n",
    "                      loss='categorical_crossentropy',\n",
    "                      metrics=['accuracy'],\n",
    "                      epochs=3)\n",
    "\n",
    "optimizers=['Nadam', 'Adam']\n",
    "\n",
    "param_grid = dict(optimizer=optimizers)\n",
    "\n",
    "grid_cnn = GridSearchCV(cnn_grid, param_grid, cv=2, n_jobs=-1)"
   ]
  },
  {
   "cell_type": "code",
   "execution_count": 112,
   "metadata": {
    "colab": {
     "base_uri": "https://localhost:8080/"
    },
    "executionInfo": {
     "elapsed": 803057,
     "status": "ok",
     "timestamp": 1638886403910,
     "user": {
      "displayName": "Lucas Nascimento Barros",
      "photoUrl": "https://lh3.googleusercontent.com/a-/AOh14GgrwsR4kAWXNmM-C4P-CXv6DetVJyf56vtdC_IkQw=s64",
      "userId": "06035058941685765175"
     },
     "user_tz": 180
    },
    "id": "hkpdKBuAVnRL",
    "outputId": "43b98171-e535-4349-ba17-869dd859b6bf"
   },
   "outputs": [
    {
     "name": "stdout",
     "output_type": "stream",
     "text": [
      "Epoch 1/3\n",
      "2500/2500 [==============================] - 77s 30ms/step - loss: 0.4272 - accuracy: 0.8726\n",
      "Epoch 2/3\n",
      "2500/2500 [==============================] - 76s 30ms/step - loss: 0.2351 - accuracy: 0.9310\n",
      "Epoch 3/3\n",
      "2500/2500 [==============================] - 74s 30ms/step - loss: 0.1927 - accuracy: 0.9426\n"
     ]
    },
    {
     "data": {
      "text/plain": [
       "GridSearchCV(cv=2,\n",
       "             estimator=KerasClassifier(epochs=3, loss='categorical_crossentropy', metrics=['accuracy'], model=<function model_cnn_grid at 0x7f67de8405f0>),\n",
       "             n_jobs=-1, param_grid={'optimizer': ['Nadam', 'Adam']})"
      ]
     },
     "execution_count": 112,
     "metadata": {},
     "output_type": "execute_result"
    }
   ],
   "source": [
    "grid_cnn.fit(x_train, y_train)"
   ]
  },
  {
   "cell_type": "code",
   "execution_count": 113,
   "metadata": {
    "colab": {
     "base_uri": "https://localhost:8080/"
    },
    "executionInfo": {
     "elapsed": 13,
     "status": "ok",
     "timestamp": 1638886403911,
     "user": {
      "displayName": "Lucas Nascimento Barros",
      "photoUrl": "https://lh3.googleusercontent.com/a-/AOh14GgrwsR4kAWXNmM-C4P-CXv6DetVJyf56vtdC_IkQw=s64",
      "userId": "06035058941685765175"
     },
     "user_tz": 180
    },
    "id": "MaRJ5a7mzbUE",
    "outputId": "452fa2db-877e-4d96-d57c-a90a3d6ddf56"
   },
   "outputs": [
    {
     "data": {
      "text/plain": [
       "KerasClassifier(\n",
       "\tmodel=<function model_cnn_grid at 0x7f67de8405f0>\n",
       "\tbuild_fn=None\n",
       "\twarm_start=False\n",
       "\trandom_state=None\n",
       "\toptimizer=Nadam\n",
       "\tloss=categorical_crossentropy\n",
       "\tmetrics=['accuracy']\n",
       "\tbatch_size=None\n",
       "\tvalidation_batch_size=None\n",
       "\tverbose=1\n",
       "\tcallbacks=None\n",
       "\tvalidation_split=0.0\n",
       "\tshuffle=True\n",
       "\trun_eagerly=False\n",
       "\tepochs=3\n",
       "\tclass_weight=None\n",
       ")"
      ]
     },
     "execution_count": 113,
     "metadata": {},
     "output_type": "execute_result"
    }
   ],
   "source": [
    "grid_cnn.best_estimator_"
   ]
  },
  {
   "cell_type": "markdown",
   "metadata": {
    "id": "6QuWzObFy57i"
   },
   "source": [
    "## cross_validate"
   ]
  },
  {
   "cell_type": "code",
   "execution_count": 115,
   "metadata": {
    "colab": {
     "base_uri": "https://localhost:8080/",
     "height": 1000
    },
    "executionInfo": {
     "elapsed": 5993826,
     "status": "error",
     "timestamp": 1638892966461,
     "user": {
      "displayName": "Lucas Nascimento Barros",
      "photoUrl": "https://lh3.googleusercontent.com/a-/AOh14GgrwsR4kAWXNmM-C4P-CXv6DetVJyf56vtdC_IkQw=s64",
      "userId": "06035058941685765175"
     },
     "user_tz": 180
    },
    "id": "YCc_NkgpyE8k",
    "outputId": "eda4bfe2-e4e0-4ada-b955-a8071a88078c"
   },
   "outputs": [
    {
     "name": "stdout",
     "output_type": "stream",
     "text": [
      "Epoch 1/3\n",
      "605/605 [==============================] - 20s 30ms/step - loss: 0.7394 - accuracy: 0.7689\n",
      "Epoch 2/3\n",
      "605/605 [==============================] - 18s 30ms/step - loss: 0.3858 - accuracy: 0.8878\n",
      "Epoch 3/3\n",
      "605/605 [==============================] - 18s 30ms/step - loss: 0.3045 - accuracy: 0.9112\n",
      "21/21 [==============================] - 0s 11ms/step\n",
      "Epoch 1/3\n",
      "605/605 [==============================] - 19s 30ms/step - loss: 0.7700 - accuracy: 0.7583\n",
      "Epoch 2/3\n",
      "605/605 [==============================] - 18s 30ms/step - loss: 0.3989 - accuracy: 0.8851\n",
      "Epoch 3/3\n",
      "605/605 [==============================] - 18s 30ms/step - loss: 0.3099 - accuracy: 0.9099\n",
      "21/21 [==============================] - 0s 11ms/step\n",
      "Epoch 1/3\n",
      "605/605 [==============================] - 19s 30ms/step - loss: 0.8011 - accuracy: 0.7466\n",
      "Epoch 2/3\n",
      "605/605 [==============================] - 18s 30ms/step - loss: 0.4033 - accuracy: 0.8814\n",
      "Epoch 3/3\n",
      "605/605 [==============================] - 18s 30ms/step - loss: 0.3203 - accuracy: 0.9073\n",
      "21/21 [==============================] - 0s 11ms/step\n"
     ]
    },
    {
     "name": "stderr",
     "output_type": "stream",
     "text": [
      "/usr/local/lib/python3.7/dist-packages/joblib/externals/loky/process_executor.py:705: UserWarning: A worker stopped while some jobs were given to the executor. This can be caused by a too short worker timeout or by a memory leak.\n",
      "  \"timeout or by a memory leak.\", UserWarning\n"
     ]
    },
    {
     "name": "stdout",
     "output_type": "stream",
     "text": [
      "Epoch 1/3\n",
      "605/605 [==============================] - 20s 31ms/step - loss: 0.7660 - accuracy: 0.7580\n",
      "Epoch 2/3\n",
      "605/605 [==============================] - 19s 31ms/step - loss: 0.3945 - accuracy: 0.8866\n",
      "Epoch 3/3\n",
      "605/605 [==============================] - 18s 30ms/step - loss: 0.3081 - accuracy: 0.9108\n",
      "21/21 [==============================] - 0s 10ms/step\n",
      "Epoch 1/3\n",
      "605/605 [==============================] - 19s 30ms/step - loss: 0.8034 - accuracy: 0.7426\n",
      "Epoch 2/3\n",
      "605/605 [==============================] - 18s 30ms/step - loss: 0.3766 - accuracy: 0.8892\n",
      "Epoch 3/3\n",
      "605/605 [==============================] - 18s 29ms/step - loss: 0.2995 - accuracy: 0.9124\n",
      "21/21 [==============================] - 0s 11ms/step\n",
      "Epoch 1/3\n",
      "605/605 [==============================] - 18s 29ms/step - loss: 0.7544 - accuracy: 0.7657\n",
      "Epoch 2/3\n",
      "605/605 [==============================] - 18s 30ms/step - loss: 0.3881 - accuracy: 0.8851\n",
      "Epoch 3/3\n",
      "605/605 [==============================] - 18s 29ms/step - loss: 0.3033 - accuracy: 0.9111\n",
      "21/21 [==============================] - 0s 10ms/step\n",
      "Epoch 1/3\n",
      "605/605 [==============================] - 19s 30ms/step - loss: 0.7591 - accuracy: 0.7620\n",
      "Epoch 2/3\n",
      "605/605 [==============================] - 18s 29ms/step - loss: 0.3939 - accuracy: 0.8861\n",
      "Epoch 3/3\n",
      "605/605 [==============================] - 18s 29ms/step - loss: 0.3136 - accuracy: 0.9077\n",
      "21/21 [==============================] - 0s 10ms/step\n",
      "Epoch 1/3\n",
      "605/605 [==============================] - 19s 30ms/step - loss: 0.8266 - accuracy: 0.7412\n",
      "Epoch 2/3\n",
      "605/605 [==============================] - 18s 29ms/step - loss: 0.4320 - accuracy: 0.8723\n",
      "Epoch 3/3\n",
      "605/605 [==============================] - 18s 29ms/step - loss: 0.3408 - accuracy: 0.9021\n",
      "21/21 [==============================] - 0s 11ms/step\n",
      "Epoch 1/3\n",
      "605/605 [==============================] - 18s 30ms/step - loss: 0.7570 - accuracy: 0.7636\n",
      "Epoch 2/3\n",
      "605/605 [==============================] - 18s 30ms/step - loss: 0.3743 - accuracy: 0.8921\n",
      "Epoch 3/3\n",
      "605/605 [==============================] - 18s 30ms/step - loss: 0.2981 - accuracy: 0.9143\n",
      "21/21 [==============================] - 0s 11ms/step\n"
     ]
    },
    {
     "name": "stderr",
     "output_type": "stream",
     "text": [
      "/usr/local/lib/python3.7/dist-packages/joblib/externals/loky/process_executor.py:705: UserWarning: A worker stopped while some jobs were given to the executor. This can be caused by a too short worker timeout or by a memory leak.\n",
      "  \"timeout or by a memory leak.\", UserWarning\n"
     ]
    },
    {
     "name": "stdout",
     "output_type": "stream",
     "text": [
      "Epoch 1/3\n",
      "605/605 [==============================] - 19s 30ms/step - loss: 0.7429 - accuracy: 0.7681\n",
      "Epoch 2/3\n",
      "605/605 [==============================] - 18s 30ms/step - loss: 0.3815 - accuracy: 0.8897\n",
      "Epoch 3/3\n",
      "605/605 [==============================] - 18s 30ms/step - loss: 0.2943 - accuracy: 0.9148\n",
      "21/21 [==============================] - 0s 10ms/step\n",
      "Epoch 1/3\n",
      "605/605 [==============================] - 20s 31ms/step - loss: 0.7231 - accuracy: 0.7715\n",
      "Epoch 2/3\n",
      "605/605 [==============================] - 18s 31ms/step - loss: 0.3650 - accuracy: 0.8953\n",
      "Epoch 3/3\n",
      "605/605 [==============================] - 19s 32ms/step - loss: 0.2913 - accuracy: 0.9160\n",
      "21/21 [==============================] - 0s 11ms/step\n",
      "Epoch 1/3\n",
      "605/605 [==============================] - 19s 30ms/step - loss: 0.7479 - accuracy: 0.7657\n",
      "Epoch 2/3\n",
      "605/605 [==============================] - 18s 29ms/step - loss: 0.3883 - accuracy: 0.8879\n",
      "Epoch 3/3\n",
      "605/605 [==============================] - 18s 29ms/step - loss: 0.3099 - accuracy: 0.9105\n",
      "21/21 [==============================] - 0s 12ms/step\n"
     ]
    },
    {
     "name": "stderr",
     "output_type": "stream",
     "text": [
      "/usr/local/lib/python3.7/dist-packages/joblib/externals/loky/process_executor.py:705: UserWarning: A worker stopped while some jobs were given to the executor. This can be caused by a too short worker timeout or by a memory leak.\n",
      "  \"timeout or by a memory leak.\", UserWarning\n"
     ]
    },
    {
     "name": "stdout",
     "output_type": "stream",
     "text": [
      "Epoch 1/3\n",
      "605/605 [==============================] - 19s 30ms/step - loss: 0.7671 - accuracy: 0.7549\n",
      "Epoch 2/3\n",
      "605/605 [==============================] - 18s 29ms/step - loss: 0.3841 - accuracy: 0.8882\n",
      "Epoch 3/3\n",
      "605/605 [==============================] - 18s 29ms/step - loss: 0.3037 - accuracy: 0.9102\n",
      "21/21 [==============================] - 0s 11ms/step\n",
      "Epoch 1/3\n",
      "605/605 [==============================] - 19s 30ms/step - loss: 0.7898 - accuracy: 0.7514\n",
      "Epoch 2/3\n",
      "605/605 [==============================] - 18s 29ms/step - loss: 0.4083 - accuracy: 0.8806\n",
      "Epoch 3/3\n",
      "605/605 [==============================] - 18s 30ms/step - loss: 0.3232 - accuracy: 0.9037\n",
      "21/21 [==============================] - 0s 11ms/step\n",
      "Epoch 1/3\n",
      "605/605 [==============================] - 19s 30ms/step - loss: 0.7929 - accuracy: 0.7525\n",
      "Epoch 2/3\n",
      "605/605 [==============================] - 18s 30ms/step - loss: 0.4144 - accuracy: 0.8792\n",
      "Epoch 3/3\n",
      "605/605 [==============================] - 18s 29ms/step - loss: 0.3269 - accuracy: 0.9045\n",
      "21/21 [==============================] - 0s 12ms/step\n",
      "Epoch 1/3\n",
      "605/605 [==============================] - 18s 30ms/step - loss: 0.7671 - accuracy: 0.7620\n",
      "Epoch 2/3\n",
      "605/605 [==============================] - 18s 29ms/step - loss: 0.3927 - accuracy: 0.8869\n",
      "Epoch 3/3\n",
      "605/605 [==============================] - 17s 29ms/step - loss: 0.3032 - accuracy: 0.9117\n",
      "21/21 [==============================] - 0s 11ms/step\n",
      "Epoch 1/3\n",
      "605/605 [==============================] - 18s 29ms/step - loss: 0.7827 - accuracy: 0.7525\n",
      "Epoch 2/3\n",
      "605/605 [==============================] - 18s 29ms/step - loss: 0.3907 - accuracy: 0.8856\n",
      "Epoch 3/3\n",
      "605/605 [==============================] - 18s 29ms/step - loss: 0.3084 - accuracy: 0.9112\n",
      "21/21 [==============================] - 0s 11ms/step\n",
      "Epoch 1/3\n",
      "605/605 [==============================] - 19s 30ms/step - loss: 0.7504 - accuracy: 0.7618\n",
      "Epoch 2/3\n",
      "605/605 [==============================] - 18s 30ms/step - loss: 0.3871 - accuracy: 0.8877\n",
      "Epoch 3/3\n",
      "605/605 [==============================] - 18s 29ms/step - loss: 0.2999 - accuracy: 0.9139\n",
      "21/21 [==============================] - 0s 11ms/step\n",
      "Epoch 1/3\n",
      "605/605 [==============================] - 18s 30ms/step - loss: 0.7902 - accuracy: 0.7475\n",
      "Epoch 2/3\n",
      "605/605 [==============================] - 18s 29ms/step - loss: 0.4076 - accuracy: 0.8835\n",
      "Epoch 3/3\n",
      "605/605 [==============================] - 18s 29ms/step - loss: 0.3221 - accuracy: 0.9060\n",
      "21/21 [==============================] - 0s 11ms/step\n",
      "Epoch 1/3\n",
      "605/605 [==============================] - 20s 30ms/step - loss: 0.7489 - accuracy: 0.7686\n",
      "Epoch 2/3\n",
      "605/605 [==============================] - 18s 31ms/step - loss: 0.3719 - accuracy: 0.8915\n",
      "Epoch 3/3\n",
      "605/605 [==============================] - 18s 30ms/step - loss: 0.2875 - accuracy: 0.9165\n",
      "21/21 [==============================] - 0s 12ms/step\n",
      "Epoch 1/3\n",
      "605/605 [==============================] - 19s 30ms/step - loss: 0.7684 - accuracy: 0.7590\n",
      "Epoch 2/3\n",
      "605/605 [==============================] - 19s 31ms/step - loss: 0.4024 - accuracy: 0.8819\n",
      "Epoch 3/3\n",
      "605/605 [==============================] - 19s 31ms/step - loss: 0.3112 - accuracy: 0.9083\n",
      "21/21 [==============================] - 0s 11ms/step\n"
     ]
    },
    {
     "name": "stderr",
     "output_type": "stream",
     "text": [
      "/usr/local/lib/python3.7/dist-packages/joblib/externals/loky/process_executor.py:705: UserWarning: A worker stopped while some jobs were given to the executor. This can be caused by a too short worker timeout or by a memory leak.\n",
      "  \"timeout or by a memory leak.\", UserWarning\n"
     ]
    },
    {
     "name": "stdout",
     "output_type": "stream",
     "text": [
      "Epoch 1/3\n",
      "605/605 [==============================] - 19s 30ms/step - loss: 0.8188 - accuracy: 0.7400\n",
      "Epoch 2/3\n",
      "605/605 [==============================] - 18s 29ms/step - loss: 0.4370 - accuracy: 0.8717\n",
      "Epoch 3/3\n",
      "605/605 [==============================] - 18s 29ms/step - loss: 0.3425 - accuracy: 0.9006\n",
      "21/21 [==============================] - 0s 11ms/step\n",
      "Epoch 1/3\n",
      "605/605 [==============================] - 18s 29ms/step - loss: 0.7737 - accuracy: 0.7593\n",
      "Epoch 2/3\n",
      "605/605 [==============================] - 18s 29ms/step - loss: 0.3802 - accuracy: 0.8896\n",
      "Epoch 3/3\n",
      "605/605 [==============================] - 18s 29ms/step - loss: 0.3021 - accuracy: 0.9110\n",
      "21/21 [==============================] - 0s 11ms/step\n",
      "Epoch 1/3\n",
      "605/605 [==============================] - 18s 29ms/step - loss: 0.7572 - accuracy: 0.7607\n",
      "Epoch 2/3\n",
      "605/605 [==============================] - 18s 29ms/step - loss: 0.3875 - accuracy: 0.8884\n",
      "Epoch 3/3\n",
      "605/605 [==============================] - 18s 30ms/step - loss: 0.3069 - accuracy: 0.9110\n",
      "21/21 [==============================] - 0s 11ms/step\n",
      "Epoch 1/3\n",
      "605/605 [==============================] - 18s 29ms/step - loss: 0.7661 - accuracy: 0.7607\n",
      "Epoch 2/3\n",
      "605/605 [==============================] - 17s 29ms/step - loss: 0.4040 - accuracy: 0.8823\n",
      "Epoch 3/3\n",
      "605/605 [==============================] - 17s 29ms/step - loss: 0.3223 - accuracy: 0.9075\n",
      "21/21 [==============================] - 0s 10ms/step\n",
      "Epoch 1/3\n",
      "605/605 [==============================] - 18s 29ms/step - loss: 0.7766 - accuracy: 0.7542\n",
      "Epoch 2/3\n",
      "605/605 [==============================] - 18s 29ms/step - loss: 0.4012 - accuracy: 0.8830\n",
      "Epoch 3/3\n",
      "605/605 [==============================] - 18s 29ms/step - loss: 0.3077 - accuracy: 0.9103\n",
      "21/21 [==============================] - 0s 11ms/step\n",
      "Epoch 1/3\n",
      "605/605 [==============================] - 20s 30ms/step - loss: 0.7620 - accuracy: 0.7583\n",
      "Epoch 2/3\n",
      "605/605 [==============================] - 18s 30ms/step - loss: 0.3891 - accuracy: 0.8873\n",
      "Epoch 3/3\n",
      "605/605 [==============================] - 18s 30ms/step - loss: 0.3067 - accuracy: 0.9100\n",
      "21/21 [==============================] - 0s 11ms/step\n"
     ]
    },
    {
     "name": "stderr",
     "output_type": "stream",
     "text": [
      "/usr/local/lib/python3.7/dist-packages/joblib/externals/loky/process_executor.py:705: UserWarning: A worker stopped while some jobs were given to the executor. This can be caused by a too short worker timeout or by a memory leak.\n",
      "  \"timeout or by a memory leak.\", UserWarning\n"
     ]
    },
    {
     "name": "stdout",
     "output_type": "stream",
     "text": [
      "Epoch 1/3\n",
      "605/605 [==============================] - 20s 31ms/step - loss: 0.7276 - accuracy: 0.7711\n",
      "Epoch 2/3\n",
      "605/605 [==============================] - 18s 30ms/step - loss: 0.3584 - accuracy: 0.8956\n",
      "Epoch 3/3\n",
      "605/605 [==============================] - 18s 30ms/step - loss: 0.2831 - accuracy: 0.9184\n",
      "21/21 [==============================] - 0s 10ms/step\n",
      "Epoch 1/3\n",
      "605/605 [==============================] - 18s 29ms/step - loss: 0.7862 - accuracy: 0.7535\n",
      "Epoch 2/3\n",
      "605/605 [==============================] - 18s 29ms/step - loss: 0.4109 - accuracy: 0.8793\n",
      "Epoch 3/3\n",
      "605/605 [==============================] - 18s 29ms/step - loss: 0.3271 - accuracy: 0.9073\n",
      "21/21 [==============================] - 0s 10ms/step\n",
      "Epoch 1/3\n",
      "605/605 [==============================] - 18s 29ms/step - loss: 0.7849 - accuracy: 0.7507\n",
      "Epoch 2/3\n",
      "605/605 [==============================] - 18s 29ms/step - loss: 0.3933 - accuracy: 0.8858\n",
      "Epoch 3/3\n",
      "605/605 [==============================] - 18s 29ms/step - loss: 0.3150 - accuracy: 0.9103\n",
      "21/21 [==============================] - 0s 10ms/step\n",
      "\n"
     ]
    },
    {
     "ename": "NameError",
     "evalue": "ignored",
     "output_type": "error",
     "traceback": [
      "\u001b[0;31m---------------------------------------------------------------------------\u001b[0m",
      "\u001b[0;31mNameError\u001b[0m                                 Traceback (most recent call last)",
      "\u001b[0;32m<ipython-input-115-b3f292b9bd42>\u001b[0m in \u001b[0;36m<module>\u001b[0;34m()\u001b[0m\n\u001b[1;32m      8\u001b[0m \u001b[0;34m\u001b[0m\u001b[0m\n\u001b[1;32m      9\u001b[0m \u001b[0mprint\u001b[0m\u001b[0;34m(\u001b[0m\u001b[0;34m)\u001b[0m\u001b[0;34m\u001b[0m\u001b[0;34m\u001b[0m\u001b[0m\n\u001b[0;32m---> 10\u001b[0;31m \u001b[0mprint\u001b[0m\u001b[0;34m(\u001b[0m\u001b[0;34m\"Tempo de treinamento: %f\"\u001b[0m \u001b[0;34m%\u001b[0m \u001b[0mcnn_results\u001b[0m\u001b[0;34m[\u001b[0m\u001b[0;34m'fit_time'\u001b[0m\u001b[0;34m]\u001b[0m\u001b[0;34m.\u001b[0m\u001b[0mmean\u001b[0m\u001b[0;34m(\u001b[0m\u001b[0;34m)\u001b[0m\u001b[0;34m)\u001b[0m\u001b[0;34m\u001b[0m\u001b[0;34m\u001b[0m\u001b[0m\n\u001b[0m\u001b[1;32m     11\u001b[0m \u001b[0mprint\u001b[0m\u001b[0;34m(\u001b[0m\u001b[0;34m\"Tempo de classificação: %f\"\u001b[0m \u001b[0;34m%\u001b[0m \u001b[0mcnn_results\u001b[0m\u001b[0;34m[\u001b[0m\u001b[0;34m'score_time'\u001b[0m\u001b[0;34m]\u001b[0m\u001b[0;34m.\u001b[0m\u001b[0mmean\u001b[0m\u001b[0;34m(\u001b[0m\u001b[0;34m)\u001b[0m\u001b[0;34m)\u001b[0m\u001b[0;34m\u001b[0m\u001b[0;34m\u001b[0m\u001b[0m\n\u001b[1;32m     12\u001b[0m \u001b[0mprint\u001b[0m\u001b[0;34m(\u001b[0m\u001b[0;34m\"Acurácia: %f\"\u001b[0m \u001b[0;34m%\u001b[0m \u001b[0mcnn_results\u001b[0m\u001b[0;34m[\u001b[0m\u001b[0;34m'test_accuracy'\u001b[0m\u001b[0;34m]\u001b[0m\u001b[0;34m.\u001b[0m\u001b[0mmean\u001b[0m\u001b[0;34m(\u001b[0m\u001b[0;34m)\u001b[0m\u001b[0;34m)\u001b[0m\u001b[0;34m\u001b[0m\u001b[0;34m\u001b[0m\u001b[0m\n",
      "\u001b[0;31mNameError\u001b[0m: name 'cnn_results' is not defined"
     ]
    }
   ],
   "source": [
    "scoring =  ['accuracy',\n",
    "            'recall_micro','precision_micro','f1_micro',\n",
    "            'recall_macro','precision_macro','f1_macro',\n",
    "            'recall_weighted','precision_weighted','f1_weighted',\n",
    "            'recall_samples','precision_samples','f1_samples']\n",
    "\n",
    "grid_cnn_results = cross_validate(grid_cnn, x_test, y_test,scoring=scoring, cv=30)"
   ]
  },
  {
   "cell_type": "code",
   "execution_count": 116,
   "metadata": {
    "colab": {
     "base_uri": "https://localhost:8080/"
    },
    "executionInfo": {
     "elapsed": 252,
     "status": "ok",
     "timestamp": 1638893463473,
     "user": {
      "displayName": "Lucas Nascimento Barros",
      "photoUrl": "https://lh3.googleusercontent.com/a-/AOh14GgrwsR4kAWXNmM-C4P-CXv6DetVJyf56vtdC_IkQw=s64",
      "userId": "06035058941685765175"
     },
     "user_tz": 180
    },
    "id": "2CxA4LFlqZYV",
    "outputId": "72b1217c-fbaa-41d1-f21b-7972635093f0"
   },
   "outputs": [
    {
     "data": {
      "text/plain": [
       "{'fit_time': array([201.23003507, 229.08100677, 177.8654108 , 194.55126595,\n",
       "        230.40097857, 197.08714461, 175.15447903, 178.71159482,\n",
       "        175.56336236, 244.4819715 , 201.49690795, 213.74573421,\n",
       "        207.58041644, 199.50692701, 177.95151782, 188.286448  ,\n",
       "        167.87341523, 173.91057754, 205.93045568, 172.14631391,\n",
       "        240.2514174 , 208.04398465, 203.65593314, 169.33794498,\n",
       "        195.98432589, 187.94762182, 203.01000404, 235.89088106,\n",
       "        186.68561029, 237.26908994]),\n",
       " 'score_time': array([0.46701407, 0.40335846, 0.40573001, 0.38449407, 0.46459985,\n",
       "        0.37370086, 0.36669922, 0.4596374 , 0.39009428, 0.36909533,\n",
       "        0.46279359, 0.42927194, 0.38728786, 0.39626122, 0.43341875,\n",
       "        0.38426852, 0.45204639, 0.39347243, 0.39126325, 0.42185211,\n",
       "        0.40136075, 0.46087599, 0.40275073, 0.4505291 , 0.35736561,\n",
       "        0.47345567, 0.37057114, 0.36710715, 0.3730607 , 0.37538695]),\n",
       " 'test_accuracy': array([0.87106447, 0.87556222, 0.88455772, 0.92353823, 0.90704648,\n",
       "        0.91154423, 0.89955022, 0.89055472, 0.90404798, 0.88905547,\n",
       "        0.91004498, 0.88905547, 0.93703148, 0.89955022, 0.88905547,\n",
       "        0.92053973, 0.91154423, 0.89505247, 0.91904048, 0.91004498,\n",
       "        0.87387387, 0.8978979 , 0.91141141, 0.88738739, 0.86636637,\n",
       "        0.8978979 , 0.90540541, 0.9009009 , 0.90990991, 0.9009009 ]),\n",
       " 'test_f1_macro': array([0.87173864, 0.87492893, 0.88208114, 0.92216347, 0.90609686,\n",
       "        0.9125438 , 0.89678053, 0.88897671, 0.90376976, 0.89180749,\n",
       "        0.90963237, 0.88899422, 0.93788691, 0.90075237, 0.8932148 ,\n",
       "        0.9210612 , 0.91290157, 0.89109386, 0.9175098 , 0.91137373,\n",
       "        0.87314703, 0.89235201, 0.91268234, 0.88775015, 0.87370836,\n",
       "        0.89821524, 0.90820939, 0.90584516, 0.91008854, 0.9006026 ]),\n",
       " 'test_f1_micro': array([0.87106447, 0.87556222, 0.88455772, 0.92353823, 0.90704648,\n",
       "        0.91154423, 0.89955022, 0.89055472, 0.90404798, 0.88905547,\n",
       "        0.91004498, 0.88905547, 0.93703148, 0.89955022, 0.88905547,\n",
       "        0.92053973, 0.91154423, 0.89505247, 0.91904048, 0.91004498,\n",
       "        0.87387387, 0.8978979 , 0.91141141, 0.88738739, 0.86636637,\n",
       "        0.8978979 , 0.90540541, 0.9009009 , 0.90990991, 0.9009009 ]),\n",
       " 'test_f1_samples': array([0.87106447, 0.87556222, 0.88455772, 0.92353823, 0.90704648,\n",
       "        0.91154423, 0.89955022, 0.89055472, 0.90404798, 0.88905547,\n",
       "        0.91004498, 0.88905547, 0.93703148, 0.89955022, 0.88905547,\n",
       "        0.92053973, 0.91154423, 0.89505247, 0.91904048, 0.91004498,\n",
       "        0.87387387, 0.8978979 , 0.91141141, 0.88738739, 0.86636637,\n",
       "        0.8978979 , 0.90540541, 0.9009009 , 0.90990991, 0.9009009 ]),\n",
       " 'test_f1_weighted': array([0.87877313, 0.87685591, 0.88321263, 0.92327251, 0.90681148,\n",
       "        0.91246767, 0.89919187, 0.89227577, 0.90434849, 0.89124424,\n",
       "        0.91035025, 0.88881306, 0.93726858, 0.90080764, 0.8915057 ,\n",
       "        0.92080909, 0.91215051, 0.89433311, 0.91926298, 0.91024614,\n",
       "        0.87431756, 0.89663667, 0.91132352, 0.88836118, 0.87036356,\n",
       "        0.90008854, 0.90591764, 0.90339625, 0.91027256, 0.90217526]),\n",
       " 'test_precision_macro': array([0.90014559, 0.88020663, 0.88886586, 0.92562709, 0.90598943,\n",
       "        0.91600677, 0.90139416, 0.89203073, 0.90406946, 0.89793201,\n",
       "        0.91127947, 0.89737814, 0.93948387, 0.90546215, 0.90200656,\n",
       "        0.92458036, 0.91515792, 0.8990106 , 0.91953882, 0.91406069,\n",
       "        0.88286092, 0.89621656, 0.91411897, 0.89050422, 0.89746047,\n",
       "        0.90737206, 0.91393277, 0.91490737, 0.9120978 , 0.9064596 ]),\n",
       " 'test_precision_micro': array([0.87106447, 0.87556222, 0.88455772, 0.92353823, 0.90704648,\n",
       "        0.91154423, 0.89955022, 0.89055472, 0.90404798, 0.88905547,\n",
       "        0.91004498, 0.88905547, 0.93703148, 0.89955022, 0.88905547,\n",
       "        0.92053973, 0.91154423, 0.89505247, 0.91904048, 0.91004498,\n",
       "        0.87387387, 0.8978979 , 0.91141141, 0.88738739, 0.86636637,\n",
       "        0.8978979 , 0.90540541, 0.9009009 , 0.90990991, 0.9009009 ]),\n",
       " 'test_precision_samples': array([0.87106447, 0.87556222, 0.88455772, 0.92353823, 0.90704648,\n",
       "        0.91154423, 0.89955022, 0.89055472, 0.90404798, 0.88905547,\n",
       "        0.91004498, 0.88905547, 0.93703148, 0.89955022, 0.88905547,\n",
       "        0.92053973, 0.91154423, 0.89505247, 0.91904048, 0.91004498,\n",
       "        0.87387387, 0.8978979 , 0.91141141, 0.88738739, 0.86636637,\n",
       "        0.8978979 , 0.90540541, 0.9009009 , 0.90990991, 0.9009009 ]),\n",
       " 'test_precision_weighted': array([0.90754733, 0.88123201, 0.88648886, 0.92493397, 0.90719665,\n",
       "        0.91709298, 0.90199749, 0.897539  , 0.90621968, 0.89905859,\n",
       "        0.91171068, 0.89469435, 0.93829435, 0.9052455 , 0.9018821 ,\n",
       "        0.92230563, 0.91486208, 0.90069487, 0.92269642, 0.91294403,\n",
       "        0.88443929, 0.8990939 , 0.91218049, 0.89181438, 0.89112814,\n",
       "        0.91300688, 0.9101237 , 0.91265897, 0.91243387, 0.90901324]),\n",
       " 'test_recall_macro': array([0.86574957, 0.87279752, 0.88046076, 0.92074359, 0.90683983,\n",
       "        0.91284573, 0.89551954, 0.8898965 , 0.90507033, 0.8914087 ,\n",
       "        0.90900705, 0.88669349, 0.93702673, 0.8991038 , 0.89219447,\n",
       "        0.91872223, 0.91281759, 0.89125821, 0.91917356, 0.91110413,\n",
       "        0.87326765, 0.89233422, 0.91222016, 0.88770925, 0.86490586,\n",
       "        0.90162138, 0.90612498, 0.90362507, 0.91001062, 0.90025887]),\n",
       " 'test_recall_micro': array([0.87106447, 0.87556222, 0.88455772, 0.92353823, 0.90704648,\n",
       "        0.91154423, 0.89955022, 0.89055472, 0.90404798, 0.88905547,\n",
       "        0.91004498, 0.88905547, 0.93703148, 0.89955022, 0.88905547,\n",
       "        0.92053973, 0.91154423, 0.89505247, 0.91904048, 0.91004498,\n",
       "        0.87387387, 0.8978979 , 0.91141141, 0.88738739, 0.86636637,\n",
       "        0.8978979 , 0.90540541, 0.9009009 , 0.90990991, 0.9009009 ]),\n",
       " 'test_recall_samples': array([0.87106447, 0.87556222, 0.88455772, 0.92353823, 0.90704648,\n",
       "        0.91154423, 0.89955022, 0.89055472, 0.90404798, 0.88905547,\n",
       "        0.91004498, 0.88905547, 0.93703148, 0.89955022, 0.88905547,\n",
       "        0.92053973, 0.91154423, 0.89505247, 0.91904048, 0.91004498,\n",
       "        0.87387387, 0.8978979 , 0.91141141, 0.88738739, 0.86636637,\n",
       "        0.8978979 , 0.90540541, 0.9009009 , 0.90990991, 0.9009009 ]),\n",
       " 'test_recall_weighted': array([0.87106447, 0.87556222, 0.88455772, 0.92353823, 0.90704648,\n",
       "        0.91154423, 0.89955022, 0.89055472, 0.90404798, 0.88905547,\n",
       "        0.91004498, 0.88905547, 0.93703148, 0.89955022, 0.88905547,\n",
       "        0.92053973, 0.91154423, 0.89505247, 0.91904048, 0.91004498,\n",
       "        0.87387387, 0.8978979 , 0.91141141, 0.88738739, 0.86636637,\n",
       "        0.8978979 , 0.90540541, 0.9009009 , 0.90990991, 0.9009009 ])}"
      ]
     },
     "execution_count": 116,
     "metadata": {},
     "output_type": "execute_result"
    }
   ],
   "source": [
    "grid_cnn_results"
   ]
  },
  {
   "cell_type": "code",
   "execution_count": 117,
   "metadata": {
    "colab": {
     "base_uri": "https://localhost:8080/"
    },
    "executionInfo": {
     "elapsed": 242,
     "status": "ok",
     "timestamp": 1638893537841,
     "user": {
      "displayName": "Lucas Nascimento Barros",
      "photoUrl": "https://lh3.googleusercontent.com/a-/AOh14GgrwsR4kAWXNmM-C4P-CXv6DetVJyf56vtdC_IkQw=s64",
      "userId": "06035058941685765175"
     },
     "user_tz": 180
    },
    "id": "BJNNChACqOvW",
    "outputId": "5bec3685-98c6-40db-fe59-099c9026132b"
   },
   "outputs": [
    {
     "name": "stdout",
     "output_type": "stream",
     "text": [
      "Tempo de treinamento: 199.354426\n",
      "Tempo de classificação: 0.408961\n",
      "Acurácia: 0.899648\n",
      "\n",
      "Micro Precisão: 0.899648\n",
      "Micro Revocação: 0.899648\n",
      "Micro F1: 0.899648\n",
      "\n",
      "Macro Precisão: 0.905872\n",
      "Macro Revocação: 0.899017\n",
      "Macro F1: 0.899930\n",
      "\n",
      "Weighted Precisão: 0.906351\n",
      "Weighted Revocação: 0.899648\n",
      "Weighted F1: 0.900562\n",
      "\n",
      "Samples Precisão: 0.899648\n",
      "Samples Revocação: 0.899648\n",
      "Samples F1: 0.899648\n"
     ]
    }
   ],
   "source": [
    "print(\"Tempo de treinamento: %f\" % grid_cnn_results['fit_time'].mean())\n",
    "print(\"Tempo de classificação: %f\" % grid_cnn_results['score_time'].mean())\n",
    "print(\"Acurácia: %f\" % grid_cnn_results['test_accuracy'].mean())\n",
    "print()\n",
    "print(\"Micro Precisão: %f\" % grid_cnn_results['test_precision_micro'].mean())\n",
    "print(\"Micro Revocação: %f\" % grid_cnn_results['test_recall_micro'].mean())\n",
    "print(\"Micro F1: %f\" % grid_cnn_results['test_f1_micro'].mean())\n",
    "print()\n",
    "print(\"Macro Precisão: %f\" % grid_cnn_results['test_precision_macro'].mean())\n",
    "print(\"Macro Revocação: %f\" % grid_cnn_results['test_recall_macro'].mean())\n",
    "print(\"Macro F1: %f\" % grid_cnn_results['test_f1_macro'].mean())\n",
    "print()\n",
    "print(\"Weighted Precisão: %f\" % grid_cnn_results['test_precision_weighted'].mean())\n",
    "print(\"Weighted Revocação: %f\" % grid_cnn_results['test_recall_weighted'].mean())\n",
    "print(\"Weighted F1: %f\" % grid_cnn_results['test_f1_weighted'].mean())\n",
    "print()\n",
    "print(\"Samples Precisão: %f\" % grid_cnn_results['test_precision_samples'].mean())\n",
    "print(\"Samples Revocação: %f\" % grid_cnn_results['test_recall_samples'].mean())\n",
    "print(\"Samples F1: %f\" % grid_cnn_results['test_f1_samples'].mean())"
   ]
  },
  {
   "cell_type": "code",
   "execution_count": null,
   "metadata": {
    "id": "DfQitQlsLUVX"
   },
   "outputs": [],
   "source": [
    "grid_cnn_results"
   ]
  },
  {
   "cell_type": "markdown",
   "metadata": {
    "id": "ubPUBT_qm_J2"
   },
   "source": [
    "# RNN"
   ]
  },
  {
   "cell_type": "markdown",
   "metadata": {
    "id": "qGMFZvIdUcMe"
   },
   "source": [
    "## stroke_read_model"
   ]
  },
  {
   "cell_type": "code",
   "execution_count": 176,
   "metadata": {
    "executionInfo": {
     "elapsed": 276,
     "status": "ok",
     "timestamp": 1638901531382,
     "user": {
      "displayName": "Lucas Nascimento Barros",
      "photoUrl": "https://lh3.googleusercontent.com/a-/AOh14GgrwsR4kAWXNmM-C4P-CXv6DetVJyf56vtdC_IkQw=s64",
      "userId": "06035058941685765175"
     },
     "user_tz": 180
    },
    "id": "GVkbw4G7PQ8V"
   },
   "outputs": [],
   "source": [
    "def get_available_gpus():\n",
    "    from tensorflow.python.client import device_lib\n",
    "    local_device_protos = device_lib.list_local_devices()\n",
    "    return [x.name for x in local_device_protos if x.device_type == 'GPU']"
   ]
  },
  {
   "cell_type": "code",
   "execution_count": 177,
   "metadata": {
    "colab": {
     "base_uri": "https://localhost:8080/"
    },
    "executionInfo": {
     "elapsed": 1063,
     "status": "ok",
     "timestamp": 1638901534168,
     "user": {
      "displayName": "Lucas Nascimento Barros",
      "photoUrl": "https://lh3.googleusercontent.com/a-/AOh14GgrwsR4kAWXNmM-C4P-CXv6DetVJyf56vtdC_IkQw=s64",
      "userId": "06035058941685765175"
     },
     "user_tz": 180
    },
    "id": "xmywTzWcI6ny",
    "outputId": "43fb0710-5d64-4d16-8ac6-a8cf816eec1f"
   },
   "outputs": [
    {
     "name": "stdout",
     "output_type": "stream",
     "text": [
      "Model: \"sequential_104\"\n",
      "_________________________________________________________________\n",
      " Layer (type)                Output Shape              Param #   \n",
      "=================================================================\n",
      " batch_normalization_41 (Bat  (None, 28, 28)           112       \n",
      " chNormalization)                                                \n",
      "                                                                 \n",
      " conv1d_141 (Conv1D)         (None, 24, 48)            6768      \n",
      "                                                                 \n",
      " dropout_261 (Dropout)       (None, 24, 48)            0         \n",
      "                                                                 \n",
      " conv1d_142 (Conv1D)         (None, 20, 64)            15424     \n",
      "                                                                 \n",
      " dropout_262 (Dropout)       (None, 20, 64)            0         \n",
      "                                                                 \n",
      " conv1d_143 (Conv1D)         (None, 18, 96)            18528     \n",
      "                                                                 \n",
      " dropout_263 (Dropout)       (None, 18, 96)            0         \n",
      "                                                                 \n",
      " lstm_135 (LSTM)             (None, 18, 128)           115200    \n",
      "                                                                 \n",
      " dropout_264 (Dropout)       (None, 18, 128)           0         \n",
      "                                                                 \n",
      " lstm_136 (LSTM)             (None, 128)               131584    \n",
      "                                                                 \n",
      " dropout_265 (Dropout)       (None, 128)               0         \n",
      "                                                                 \n",
      " dense_185 (Dense)           (None, 512)               66048     \n",
      "                                                                 \n",
      " dropout_266 (Dropout)       (None, 512)               0         \n",
      "                                                                 \n",
      " dense_186 (Dense)           (None, 10)                5130      \n",
      "                                                                 \n",
      "=================================================================\n",
      "Total params: 358,794\n",
      "Trainable params: 358,738\n",
      "Non-trainable params: 56\n",
      "_________________________________________________________________\n"
     ]
    }
   ],
   "source": [
    "from keras.models import Sequential\n",
    "from keras.layers import BatchNormalization, Conv1D, LSTM, Dense, Dropout\n",
    "\n",
    "if len(get_available_gpus())>0:\n",
    "    from keras.layers import CuDNNLSTM as LSTM\n",
    "\n",
    "stroke_read_model = Sequential()\n",
    "stroke_read_model.add(BatchNormalization(input_shape =(28,28)))\n",
    "stroke_read_model.add(Conv1D(48, (5,)))\n",
    "stroke_read_model.add(Dropout(0.3))\n",
    "stroke_read_model.add(Conv1D(64, (5,)))\n",
    "stroke_read_model.add(Dropout(0.3))\n",
    "stroke_read_model.add(Conv1D(96, (3,)))\n",
    "stroke_read_model.add(Dropout(0.3))\n",
    "stroke_read_model.add(LSTM(128, return_sequences = True))\n",
    "stroke_read_model.add(Dropout(0.3))\n",
    "stroke_read_model.add(LSTM(128, return_sequences = False))\n",
    "stroke_read_model.add(Dropout(0.3))\n",
    "stroke_read_model.add(Dense(512))\n",
    "stroke_read_model.add(Dropout(0.3))\n",
    "stroke_read_model.add(Dense(len(class_names), activation = 'softmax'))\n",
    "\n",
    "stroke_read_model.compile(optimizer = 'adam', \n",
    "                          loss = 'categorical_crossentropy', \n",
    "                          metrics = ['categorical_accuracy'])\n",
    "\n",
    "stroke_read_model.summary()"
   ]
  },
  {
   "cell_type": "code",
   "execution_count": 179,
   "metadata": {
    "colab": {
     "base_uri": "https://localhost:8080/"
    },
    "executionInfo": {
     "elapsed": 382272,
     "status": "ok",
     "timestamp": 1638902625845,
     "user": {
      "displayName": "Lucas Nascimento Barros",
      "photoUrl": "https://lh3.googleusercontent.com/a-/AOh14GgrwsR4kAWXNmM-C4P-CXv6DetVJyf56vtdC_IkQw=s64",
      "userId": "06035058941685765175"
     },
     "user_tz": 180
    },
    "id": "4t26_5WVKY6g",
    "outputId": "cd487989-e186-4cab-c954-e239e12337b9"
   },
   "outputs": [
    {
     "name": "stdout",
     "output_type": "stream",
     "text": [
      "Epoch 1/3\n",
      "1000/1000 [==============================] - 116s 116ms/step - loss: 0.4750 - categorical_accuracy: 0.8556 - val_loss: 0.3968 - val_categorical_accuracy: 0.8814\n",
      "Epoch 2/3\n",
      "1000/1000 [==============================] - 115s 115ms/step - loss: 0.4688 - categorical_accuracy: 0.8577 - val_loss: 0.4048 - val_categorical_accuracy: 0.8817\n",
      "Epoch 3/3\n",
      "1000/1000 [==============================] - 117s 117ms/step - loss: 0.4646 - categorical_accuracy: 0.8596 - val_loss: 0.3887 - val_categorical_accuracy: 0.8822\n"
     ]
    },
    {
     "data": {
      "text/plain": [
       "<keras.callbacks.History at 0x7f67de323dd0>"
      ]
     },
     "execution_count": 179,
     "metadata": {},
     "output_type": "execute_result"
    }
   ],
   "source": [
    "stroke_read_model.fit(x_train, y_train, validation_split=0.2,validation_data=(x_test, y_test), epochs=3,batch_size=64)"
   ]
  },
  {
   "cell_type": "code",
   "execution_count": 181,
   "metadata": {
    "executionInfo": {
     "elapsed": 257,
     "status": "ok",
     "timestamp": 1638903080837,
     "user": {
      "displayName": "Lucas Nascimento Barros",
      "photoUrl": "https://lh3.googleusercontent.com/a-/AOh14GgrwsR4kAWXNmM-C4P-CXv6DetVJyf56vtdC_IkQw=s64",
      "userId": "06035058941685765175"
     },
     "user_tz": 180
    },
    "id": "I1jlCxes6LPO"
   },
   "outputs": [],
   "source": [
    "stroke_read_model.save('models/stroke_read_model.h5')"
   ]
  },
  {
   "cell_type": "markdown",
   "metadata": {
    "id": "woIbSBYk5RqZ"
   },
   "source": [
    "## model_rnn"
   ]
  },
  {
   "cell_type": "code",
   "execution_count": 46,
   "metadata": {
    "executionInfo": {
     "elapsed": 261,
     "status": "ok",
     "timestamp": 1638866732502,
     "user": {
      "displayName": "Lucas Nascimento Barros",
      "photoUrl": "https://lh3.googleusercontent.com/a-/AOh14GgrwsR4kAWXNmM-C4P-CXv6DetVJyf56vtdC_IkQw=s64",
      "userId": "06035058941685765175"
     },
     "user_tz": 180
    },
    "id": "2-LaDy4-4s3D"
   },
   "outputs": [],
   "source": [
    "# model_rnn = Sequential()\n",
    "# model_rnn.add(layers.LSTM(32, input_shape=(28, 28),activation=\"relu\", return_sequences=True))\n",
    "# model_rnn.add(layers.LSTM(64, activation=\"relu\"))\n",
    "# model_rnn.add(layers.Flatten())\n",
    "# model_rnn.add(layers.Dense(512, activation=\"relu\"))\n",
    "# model_rnn.add(layers.Dropout(0.6))\n",
    "# model_rnn.add(layers.Dense(128, activation='relu'))\n",
    "# model_rnn.add(layers.Dropout(0.6))\n",
    "# model_rnn.add(layers.Dense(len(class_names), activation=\"softmax\"))\n",
    "# model_rnn.compile(optimizer='Adam',loss=\"categorical_crossentropy\",metrics=[\"accuracy\"])\n",
    "# model_rnn.summary()"
   ]
  },
  {
   "cell_type": "code",
   "execution_count": 44,
   "metadata": {
    "colab": {
     "base_uri": "https://localhost:8080/"
    },
    "executionInfo": {
     "elapsed": 58910,
     "status": "ok",
     "timestamp": 1638866508367,
     "user": {
      "displayName": "Lucas Nascimento Barros",
      "photoUrl": "https://lh3.googleusercontent.com/a-/AOh14GgrwsR4kAWXNmM-C4P-CXv6DetVJyf56vtdC_IkQw=s64",
      "userId": "06035058941685765175"
     },
     "user_tz": 180
    },
    "id": "Nq82W0T96ggN",
    "outputId": "1770fdea-d4ed-47ce-97e0-4395af8c2ead"
   },
   "outputs": [
    {
     "name": "stdout",
     "output_type": "stream",
     "text": [
      "2500/2500 [==============================] - 59s 23ms/step - loss: 1.1646 - accuracy: 0.6163\n"
     ]
    },
    {
     "data": {
      "text/plain": [
       "<keras.callbacks.History at 0x7f67d7917410>"
      ]
     },
     "execution_count": 44,
     "metadata": {},
     "output_type": "execute_result"
    }
   ],
   "source": [
    "# model_rnn.fit(x_train, y_train, epochs=3)"
   ]
  },
  {
   "cell_type": "code",
   "execution_count": 20,
   "metadata": {
    "executionInfo": {
     "elapsed": 277,
     "status": "ok",
     "timestamp": 1638865473609,
     "user": {
      "displayName": "Lucas Nascimento Barros",
      "photoUrl": "https://lh3.googleusercontent.com/a-/AOh14GgrwsR4kAWXNmM-C4P-CXv6DetVJyf56vtdC_IkQw=s64",
      "userId": "06035058941685765175"
     },
     "user_tz": 180
    },
    "id": "Sr1Gq7LE_SuV"
   },
   "outputs": [],
   "source": [
    "# model_rnn.save('models/model_rnn.h5')"
   ]
  },
  {
   "cell_type": "markdown",
   "metadata": {
    "id": "EJtUqSjxcdj4"
   },
   "source": [
    "## GridSearchCV"
   ]
  },
  {
   "cell_type": "code",
   "execution_count": 51,
   "metadata": {
    "executionInfo": {
     "elapsed": 3,
     "status": "ok",
     "timestamp": 1638867795964,
     "user": {
      "displayName": "Lucas Nascimento Barros",
      "photoUrl": "https://lh3.googleusercontent.com/a-/AOh14GgrwsR4kAWXNmM-C4P-CXv6DetVJyf56vtdC_IkQw=s64",
      "userId": "06035058941685765175"
     },
     "user_tz": 180
    },
    "id": "awO8jDWYeAFM"
   },
   "outputs": [],
   "source": [
    "# def model_rnn_grid():\n",
    "#     model_rnn_grid = Sequential()\n",
    "#     model_rnn_grid.add(layers.LSTM(64, input_shape=(28, 28),activation=\"relu\", return_sequences=True))\n",
    "#     model_rnn_grid.add(layers.LSTM(32, activation=\"relu\"))\n",
    "#     model_rnn_grid.add(layers.Flatten())\n",
    "#     model_rnn_grid.add(layers.Dense(512, activation=\"relu\"))\n",
    "#     model_rnn_grid.add(layers.Dropout(0.5))\n",
    "#     model_rnn_grid.add(layers.Dense(128, activation='relu'))\n",
    "#     model_rnn_grid.add(layers.Dropout(0.5))\n",
    "#     model_rnn_grid.add(layers.Dense(len(class_names), activation=\"softmax\"))\n",
    "#     return model_rnn_grid"
   ]
  },
  {
   "cell_type": "code",
   "execution_count": 95,
   "metadata": {
    "executionInfo": {
     "elapsed": 256,
     "status": "ok",
     "timestamp": 1638871096594,
     "user": {
      "displayName": "Lucas Nascimento Barros",
      "photoUrl": "https://lh3.googleusercontent.com/a-/AOh14GgrwsR4kAWXNmM-C4P-CXv6DetVJyf56vtdC_IkQw=s64",
      "userId": "06035058941685765175"
     },
     "user_tz": 180
    },
    "id": "cFgYV9VpUq_S"
   },
   "outputs": [],
   "source": [
    "def stroke_read_model():\n",
    "    from keras.models import Sequential\n",
    "    from keras.layers import BatchNormalization, Conv1D, LSTM, Dense, Dropout\n",
    "    if len(get_available_gpus())>0:\n",
    "        # https://twitter.com/fchollet/status/918170264608817152?lang=en\n",
    "        from keras.layers import CuDNNLSTM as LSTM # this one is about 3x faster on GPU instances\n",
    "    stroke_read_model = Sequential()\n",
    "    stroke_read_model.add(BatchNormalization(input_shape =(28,28)))\n",
    "    # filter count and length are taken from the script https://github.com/tensorflow/models/blob/master/tutorials/rnn/quickdraw/train_model.py\n",
    "    stroke_read_model.add(Conv1D(48, (5,)))\n",
    "    stroke_read_model.add(Dropout(0.3))\n",
    "    stroke_read_model.add(Conv1D(64, (5,)))\n",
    "    stroke_read_model.add(Dropout(0.3))\n",
    "    stroke_read_model.add(Conv1D(96, (3,)))\n",
    "    stroke_read_model.add(Dropout(0.3))\n",
    "    stroke_read_model.add(LSTM(128, return_sequences = True))\n",
    "    stroke_read_model.add(Dropout(0.3))\n",
    "    stroke_read_model.add(LSTM(128, return_sequences = False))\n",
    "    stroke_read_model.add(Dropout(0.3))\n",
    "    stroke_read_model.add(Dense(512))\n",
    "    stroke_read_model.add(Dropout(0.3))\n",
    "    stroke_read_model.add(Dense(len(class_names), activation = 'softmax'))\n",
    "    stroke_read_model.compile(optimizer = 'adam', \n",
    "                            loss = 'categorical_crossentropy', \n",
    "                            metrics = ['categorical_accuracy'])\n",
    "    return stroke_read_model"
   ]
  },
  {
   "cell_type": "code",
   "execution_count": 96,
   "metadata": {
    "executionInfo": {
     "elapsed": 2,
     "status": "ok",
     "timestamp": 1638871099188,
     "user": {
      "displayName": "Lucas Nascimento Barros",
      "photoUrl": "https://lh3.googleusercontent.com/a-/AOh14GgrwsR4kAWXNmM-C4P-CXv6DetVJyf56vtdC_IkQw=s64",
      "userId": "06035058941685765175"
     },
     "user_tz": 180
    },
    "id": "dR7KW_U8cfvN"
   },
   "outputs": [],
   "source": [
    "rnn_grid = KerasClassifier(stroke_read_model,\n",
    "                           loss='categorical_crossentropy',\n",
    "                           metrics=['accuracy'],\n",
    "                           epochs=3)\n",
    "\n",
    "optimizers=['Adam','Nadam']\n",
    "\n",
    "param_grid = dict(optimizer=optimizers)\n",
    "\n",
    "grid_rnn = GridSearchCV(rnn_grid, param_grid, cv=2, n_jobs=-1)"
   ]
  },
  {
   "cell_type": "code",
   "execution_count": 97,
   "metadata": {
    "colab": {
     "base_uri": "https://localhost:8080/"
    },
    "executionInfo": {
     "elapsed": 1341631,
     "status": "ok",
     "timestamp": 1638872444842,
     "user": {
      "displayName": "Lucas Nascimento Barros",
      "photoUrl": "https://lh3.googleusercontent.com/a-/AOh14GgrwsR4kAWXNmM-C4P-CXv6DetVJyf56vtdC_IkQw=s64",
      "userId": "06035058941685765175"
     },
     "user_tz": 180
    },
    "id": "DpqU0vW3dTbB",
    "outputId": "f7d658c1-0a21-43d4-d351-65bad24fe95e"
   },
   "outputs": [
    {
     "name": "stdout",
     "output_type": "stream",
     "text": [
      "Model: \"sequential_34\"\n",
      "_________________________________________________________________\n",
      " Layer (type)                Output Shape              Param #   \n",
      "=================================================================\n",
      " batch_normalization_9 (Batc  (None, 28, 28)           112       \n",
      " hNormalization)                                                 \n",
      "                                                                 \n",
      " conv1d_45 (Conv1D)          (None, 24, 48)            6768      \n",
      "                                                                 \n",
      " dropout_63 (Dropout)        (None, 24, 48)            0         \n",
      "                                                                 \n",
      " conv1d_46 (Conv1D)          (None, 20, 64)            15424     \n",
      "                                                                 \n",
      " dropout_64 (Dropout)        (None, 20, 64)            0         \n",
      "                                                                 \n",
      " conv1d_47 (Conv1D)          (None, 18, 96)            18528     \n",
      "                                                                 \n",
      " dropout_65 (Dropout)        (None, 18, 96)            0         \n",
      "                                                                 \n",
      " lstm_71 (LSTM)              (None, 18, 128)           115200    \n",
      "                                                                 \n",
      " dropout_66 (Dropout)        (None, 18, 128)           0         \n",
      "                                                                 \n",
      " lstm_72 (LSTM)              (None, 128)               131584    \n",
      "                                                                 \n",
      " dropout_67 (Dropout)        (None, 128)               0         \n",
      "                                                                 \n",
      " dense_49 (Dense)            (None, 512)               66048     \n",
      "                                                                 \n",
      " dropout_68 (Dropout)        (None, 512)               0         \n",
      "                                                                 \n",
      " dense_50 (Dense)            (None, 10)                5130      \n",
      "                                                                 \n",
      "=================================================================\n",
      "Total params: 358,794\n",
      "Trainable params: 358,738\n",
      "Non-trainable params: 56\n",
      "_________________________________________________________________\n",
      "Epoch 1/3\n",
      "2500/2500 [==============================] - 154s 60ms/step - loss: 0.7237 - categorical_accuracy: 0.7750\n",
      "Epoch 2/3\n",
      "2500/2500 [==============================] - 152s 61ms/step - loss: 0.5884 - categorical_accuracy: 0.8210\n",
      "Epoch 3/3\n",
      "2500/2500 [==============================] - 151s 60ms/step - loss: 0.5684 - categorical_accuracy: 0.8278\n"
     ]
    },
    {
     "data": {
      "text/plain": [
       "GridSearchCV(cv=2,\n",
       "             estimator=KerasClassifier(epochs=3, loss='categorical_crossentropy', metrics=['accuracy'], model=<function stroke_read_model at 0x7f67dbf8a4d0>),\n",
       "             n_jobs=-1, param_grid={'optimizer': ['Adam', 'Nadam']})"
      ]
     },
     "execution_count": 97,
     "metadata": {},
     "output_type": "execute_result"
    }
   ],
   "source": [
    "grid_rnn.fit(x_train, y_train)"
   ]
  },
  {
   "cell_type": "code",
   "execution_count": 100,
   "metadata": {
    "colab": {
     "base_uri": "https://localhost:8080/"
    },
    "executionInfo": {
     "elapsed": 257,
     "status": "ok",
     "timestamp": 1638873596192,
     "user": {
      "displayName": "Lucas Nascimento Barros",
      "photoUrl": "https://lh3.googleusercontent.com/a-/AOh14GgrwsR4kAWXNmM-C4P-CXv6DetVJyf56vtdC_IkQw=s64",
      "userId": "06035058941685765175"
     },
     "user_tz": 180
    },
    "id": "OV-5aRk0ejyM",
    "outputId": "9cd4f10e-1854-48ae-cf51-d612780714f8"
   },
   "outputs": [
    {
     "data": {
      "text/plain": [
       "KerasClassifier(\n",
       "\tmodel=<function stroke_read_model at 0x7f67dbf8a4d0>\n",
       "\tbuild_fn=None\n",
       "\twarm_start=False\n",
       "\trandom_state=None\n",
       "\toptimizer=Adam\n",
       "\tloss=categorical_crossentropy\n",
       "\tmetrics=['accuracy']\n",
       "\tbatch_size=None\n",
       "\tvalidation_batch_size=None\n",
       "\tverbose=1\n",
       "\tcallbacks=None\n",
       "\tvalidation_split=0.0\n",
       "\tshuffle=True\n",
       "\trun_eagerly=False\n",
       "\tepochs=3\n",
       "\tclass_weight=None\n",
       ")"
      ]
     },
     "execution_count": 100,
     "metadata": {},
     "output_type": "execute_result"
    }
   ],
   "source": [
    "grid_rnn.best_estimator_"
   ]
  },
  {
   "cell_type": "markdown",
   "metadata": {
    "id": "3nOewLTA6o-2"
   },
   "source": [
    "## cross_validate"
   ]
  },
  {
   "cell_type": "code",
   "execution_count": 101,
   "metadata": {
    "colab": {
     "base_uri": "https://localhost:8080/"
    },
    "executionInfo": {
     "elapsed": 9274764,
     "status": "ok",
     "timestamp": 1638884783580,
     "user": {
      "displayName": "Lucas Nascimento Barros",
      "photoUrl": "https://lh3.googleusercontent.com/a-/AOh14GgrwsR4kAWXNmM-C4P-CXv6DetVJyf56vtdC_IkQw=s64",
      "userId": "06035058941685765175"
     },
     "user_tz": 180
    },
    "id": "TpIEpbEd6qsu",
    "outputId": "e383d4a2-f8d0-4499-f845-b002a92f609d"
   },
   "outputs": [
    {
     "name": "stdout",
     "output_type": "stream",
     "text": [
      "Model: \"sequential_35\"\n",
      "_________________________________________________________________\n",
      " Layer (type)                Output Shape              Param #   \n",
      "=================================================================\n",
      " batch_normalization_10 (Bat  (None, 28, 28)           112       \n",
      " chNormalization)                                                \n",
      "                                                                 \n",
      " conv1d_48 (Conv1D)          (None, 24, 48)            6768      \n",
      "                                                                 \n",
      " dropout_69 (Dropout)        (None, 24, 48)            0         \n",
      "                                                                 \n",
      " conv1d_49 (Conv1D)          (None, 20, 64)            15424     \n",
      "                                                                 \n",
      " dropout_70 (Dropout)        (None, 20, 64)            0         \n",
      "                                                                 \n",
      " conv1d_50 (Conv1D)          (None, 18, 96)            18528     \n",
      "                                                                 \n",
      " dropout_71 (Dropout)        (None, 18, 96)            0         \n",
      "                                                                 \n",
      " lstm_73 (LSTM)              (None, 18, 128)           115200    \n",
      "                                                                 \n",
      " dropout_72 (Dropout)        (None, 18, 128)           0         \n",
      "                                                                 \n",
      " lstm_74 (LSTM)              (None, 128)               131584    \n",
      "                                                                 \n",
      " dropout_73 (Dropout)        (None, 128)               0         \n",
      "                                                                 \n",
      " dense_51 (Dense)            (None, 512)               66048     \n",
      "                                                                 \n",
      " dropout_74 (Dropout)        (None, 512)               0         \n",
      "                                                                 \n",
      " dense_52 (Dense)            (None, 10)                5130      \n",
      "                                                                 \n",
      "=================================================================\n",
      "Total params: 358,794\n",
      "Trainable params: 358,738\n",
      "Non-trainable params: 56\n",
      "_________________________________________________________________\n",
      "Epoch 1/3\n",
      "605/605 [==============================] - 42s 63ms/step - loss: 0.9476 - categorical_accuracy: 0.7000\n",
      "Epoch 2/3\n",
      "605/605 [==============================] - 38s 63ms/step - loss: 0.6816 - categorical_accuracy: 0.7921\n",
      "Epoch 3/3\n",
      "605/605 [==============================] - 39s 64ms/step - loss: 0.6192 - categorical_accuracy: 0.8136\n",
      "21/21 [==============================] - 7s 20ms/step\n",
      "Model: \"sequential_36\"\n",
      "_________________________________________________________________\n",
      " Layer (type)                Output Shape              Param #   \n",
      "=================================================================\n",
      " batch_normalization_11 (Bat  (None, 28, 28)           112       \n",
      " chNormalization)                                                \n",
      "                                                                 \n",
      " conv1d_51 (Conv1D)          (None, 24, 48)            6768      \n",
      "                                                                 \n",
      " dropout_75 (Dropout)        (None, 24, 48)            0         \n",
      "                                                                 \n",
      " conv1d_52 (Conv1D)          (None, 20, 64)            15424     \n",
      "                                                                 \n",
      " dropout_76 (Dropout)        (None, 20, 64)            0         \n",
      "                                                                 \n",
      " conv1d_53 (Conv1D)          (None, 18, 96)            18528     \n",
      "                                                                 \n",
      " dropout_77 (Dropout)        (None, 18, 96)            0         \n",
      "                                                                 \n",
      " lstm_75 (LSTM)              (None, 18, 128)           115200    \n",
      "                                                                 \n",
      " dropout_78 (Dropout)        (None, 18, 128)           0         \n",
      "                                                                 \n",
      " lstm_76 (LSTM)              (None, 128)               131584    \n",
      "                                                                 \n",
      " dropout_79 (Dropout)        (None, 128)               0         \n",
      "                                                                 \n",
      " dense_53 (Dense)            (None, 512)               66048     \n",
      "                                                                 \n",
      " dropout_80 (Dropout)        (None, 512)               0         \n",
      "                                                                 \n",
      " dense_54 (Dense)            (None, 10)                5130      \n",
      "                                                                 \n",
      "=================================================================\n",
      "Total params: 358,794\n",
      "Trainable params: 358,738\n",
      "Non-trainable params: 56\n",
      "_________________________________________________________________\n",
      "Epoch 1/3\n",
      "605/605 [==============================] - 43s 64ms/step - loss: 0.9622 - categorical_accuracy: 0.6878\n",
      "Epoch 2/3\n",
      "605/605 [==============================] - 39s 64ms/step - loss: 0.6870 - categorical_accuracy: 0.7867\n",
      "Epoch 3/3\n",
      "605/605 [==============================] - 39s 64ms/step - loss: 0.6244 - categorical_accuracy: 0.8075\n",
      "21/21 [==============================] - 1s 18ms/step\n",
      "Model: \"sequential_37\"\n",
      "_________________________________________________________________\n",
      " Layer (type)                Output Shape              Param #   \n",
      "=================================================================\n",
      " batch_normalization_12 (Bat  (None, 28, 28)           112       \n",
      " chNormalization)                                                \n",
      "                                                                 \n",
      " conv1d_54 (Conv1D)          (None, 24, 48)            6768      \n",
      "                                                                 \n",
      " dropout_81 (Dropout)        (None, 24, 48)            0         \n",
      "                                                                 \n",
      " conv1d_55 (Conv1D)          (None, 20, 64)            15424     \n",
      "                                                                 \n",
      " dropout_82 (Dropout)        (None, 20, 64)            0         \n",
      "                                                                 \n",
      " conv1d_56 (Conv1D)          (None, 18, 96)            18528     \n",
      "                                                                 \n",
      " dropout_83 (Dropout)        (None, 18, 96)            0         \n",
      "                                                                 \n",
      " lstm_77 (LSTM)              (None, 18, 128)           115200    \n",
      "                                                                 \n",
      " dropout_84 (Dropout)        (None, 18, 128)           0         \n",
      "                                                                 \n",
      " lstm_78 (LSTM)              (None, 128)               131584    \n",
      "                                                                 \n",
      " dropout_85 (Dropout)        (None, 128)               0         \n",
      "                                                                 \n",
      " dense_55 (Dense)            (None, 512)               66048     \n",
      "                                                                 \n",
      " dropout_86 (Dropout)        (None, 512)               0         \n",
      "                                                                 \n",
      " dense_56 (Dense)            (None, 10)                5130      \n",
      "                                                                 \n",
      "=================================================================\n",
      "Total params: 358,794\n",
      "Trainable params: 358,738\n",
      "Non-trainable params: 56\n",
      "_________________________________________________________________\n",
      "Epoch 1/3\n",
      "605/605 [==============================] - 42s 64ms/step - loss: 0.9453 - categorical_accuracy: 0.6982\n",
      "Epoch 2/3\n",
      "605/605 [==============================] - 39s 64ms/step - loss: 0.6728 - categorical_accuracy: 0.7922\n",
      "Epoch 3/3\n",
      "605/605 [==============================] - 39s 64ms/step - loss: 0.6123 - categorical_accuracy: 0.8114\n",
      "21/21 [==============================] - 1s 18ms/step\n",
      "Model: \"sequential_38\"\n",
      "_________________________________________________________________\n",
      " Layer (type)                Output Shape              Param #   \n",
      "=================================================================\n",
      " batch_normalization_13 (Bat  (None, 28, 28)           112       \n",
      " chNormalization)                                                \n",
      "                                                                 \n",
      " conv1d_57 (Conv1D)          (None, 24, 48)            6768      \n",
      "                                                                 \n",
      " dropout_87 (Dropout)        (None, 24, 48)            0         \n",
      "                                                                 \n",
      " conv1d_58 (Conv1D)          (None, 20, 64)            15424     \n",
      "                                                                 \n",
      " dropout_88 (Dropout)        (None, 20, 64)            0         \n",
      "                                                                 \n",
      " conv1d_59 (Conv1D)          (None, 18, 96)            18528     \n",
      "                                                                 \n",
      " dropout_89 (Dropout)        (None, 18, 96)            0         \n",
      "                                                                 \n",
      " lstm_79 (LSTM)              (None, 18, 128)           115200    \n",
      "                                                                 \n",
      " dropout_90 (Dropout)        (None, 18, 128)           0         \n",
      "                                                                 \n",
      " lstm_80 (LSTM)              (None, 128)               131584    \n",
      "                                                                 \n",
      " dropout_91 (Dropout)        (None, 128)               0         \n",
      "                                                                 \n",
      " dense_57 (Dense)            (None, 512)               66048     \n",
      "                                                                 \n",
      " dropout_92 (Dropout)        (None, 512)               0         \n",
      "                                                                 \n",
      " dense_58 (Dense)            (None, 10)                5130      \n",
      "                                                                 \n",
      "=================================================================\n",
      "Total params: 358,794\n",
      "Trainable params: 358,738\n",
      "Non-trainable params: 56\n",
      "_________________________________________________________________\n",
      "Epoch 1/3\n",
      "605/605 [==============================] - 44s 65ms/step - loss: 0.9638 - categorical_accuracy: 0.6856\n",
      "Epoch 2/3\n",
      "605/605 [==============================] - 40s 65ms/step - loss: 0.6974 - categorical_accuracy: 0.7872\n",
      "Epoch 3/3\n",
      "605/605 [==============================] - 39s 65ms/step - loss: 0.6378 - categorical_accuracy: 0.8031\n",
      "21/21 [==============================] - 1s 18ms/step\n",
      "Model: \"sequential_39\"\n",
      "_________________________________________________________________\n",
      " Layer (type)                Output Shape              Param #   \n",
      "=================================================================\n",
      " batch_normalization_14 (Bat  (None, 28, 28)           112       \n",
      " chNormalization)                                                \n",
      "                                                                 \n",
      " conv1d_60 (Conv1D)          (None, 24, 48)            6768      \n",
      "                                                                 \n",
      " dropout_93 (Dropout)        (None, 24, 48)            0         \n",
      "                                                                 \n",
      " conv1d_61 (Conv1D)          (None, 20, 64)            15424     \n",
      "                                                                 \n",
      " dropout_94 (Dropout)        (None, 20, 64)            0         \n",
      "                                                                 \n",
      " conv1d_62 (Conv1D)          (None, 18, 96)            18528     \n",
      "                                                                 \n",
      " dropout_95 (Dropout)        (None, 18, 96)            0         \n",
      "                                                                 \n",
      " lstm_81 (LSTM)              (None, 18, 128)           115200    \n",
      "                                                                 \n",
      " dropout_96 (Dropout)        (None, 18, 128)           0         \n",
      "                                                                 \n",
      " lstm_82 (LSTM)              (None, 128)               131584    \n",
      "                                                                 \n",
      " dropout_97 (Dropout)        (None, 128)               0         \n",
      "                                                                 \n",
      " dense_59 (Dense)            (None, 512)               66048     \n",
      "                                                                 \n",
      " dropout_98 (Dropout)        (None, 512)               0         \n",
      "                                                                 \n",
      " dense_60 (Dense)            (None, 10)                5130      \n",
      "                                                                 \n",
      "=================================================================\n",
      "Total params: 358,794\n",
      "Trainable params: 358,738\n",
      "Non-trainable params: 56\n",
      "_________________________________________________________________\n",
      "Epoch 1/3\n",
      "605/605 [==============================] - 43s 65ms/step - loss: 0.9474 - categorical_accuracy: 0.6955\n",
      "Epoch 2/3\n",
      "605/605 [==============================] - 39s 65ms/step - loss: 0.6767 - categorical_accuracy: 0.7929\n",
      "Epoch 3/3\n",
      "605/605 [==============================] - 39s 65ms/step - loss: 0.6220 - categorical_accuracy: 0.8095\n",
      "21/21 [==============================] - 1s 19ms/step\n",
      "Model: \"sequential_40\"\n",
      "_________________________________________________________________\n",
      " Layer (type)                Output Shape              Param #   \n",
      "=================================================================\n",
      " batch_normalization_15 (Bat  (None, 28, 28)           112       \n",
      " chNormalization)                                                \n",
      "                                                                 \n",
      " conv1d_63 (Conv1D)          (None, 24, 48)            6768      \n",
      "                                                                 \n",
      " dropout_99 (Dropout)        (None, 24, 48)            0         \n",
      "                                                                 \n",
      " conv1d_64 (Conv1D)          (None, 20, 64)            15424     \n",
      "                                                                 \n",
      " dropout_100 (Dropout)       (None, 20, 64)            0         \n",
      "                                                                 \n",
      " conv1d_65 (Conv1D)          (None, 18, 96)            18528     \n",
      "                                                                 \n",
      " dropout_101 (Dropout)       (None, 18, 96)            0         \n",
      "                                                                 \n",
      " lstm_83 (LSTM)              (None, 18, 128)           115200    \n",
      "                                                                 \n",
      " dropout_102 (Dropout)       (None, 18, 128)           0         \n",
      "                                                                 \n",
      " lstm_84 (LSTM)              (None, 128)               131584    \n",
      "                                                                 \n",
      " dropout_103 (Dropout)       (None, 128)               0         \n",
      "                                                                 \n",
      " dense_61 (Dense)            (None, 512)               66048     \n",
      "                                                                 \n",
      " dropout_104 (Dropout)       (None, 512)               0         \n",
      "                                                                 \n",
      " dense_62 (Dense)            (None, 10)                5130      \n",
      "                                                                 \n",
      "=================================================================\n",
      "Total params: 358,794\n",
      "Trainable params: 358,738\n",
      "Non-trainable params: 56\n",
      "_________________________________________________________________\n",
      "Epoch 1/3\n",
      "605/605 [==============================] - 44s 66ms/step - loss: 0.9660 - categorical_accuracy: 0.6912\n",
      "Epoch 2/3\n",
      "605/605 [==============================] - 40s 66ms/step - loss: 0.6748 - categorical_accuracy: 0.7938\n",
      "Epoch 3/3\n",
      "605/605 [==============================] - 40s 66ms/step - loss: 0.6261 - categorical_accuracy: 0.8050\n",
      "21/21 [==============================] - 1s 18ms/step\n",
      "Model: \"sequential_41\"\n",
      "_________________________________________________________________\n",
      " Layer (type)                Output Shape              Param #   \n",
      "=================================================================\n",
      " batch_normalization_16 (Bat  (None, 28, 28)           112       \n",
      " chNormalization)                                                \n",
      "                                                                 \n",
      " conv1d_66 (Conv1D)          (None, 24, 48)            6768      \n",
      "                                                                 \n",
      " dropout_105 (Dropout)       (None, 24, 48)            0         \n",
      "                                                                 \n",
      " conv1d_67 (Conv1D)          (None, 20, 64)            15424     \n",
      "                                                                 \n",
      " dropout_106 (Dropout)       (None, 20, 64)            0         \n",
      "                                                                 \n",
      " conv1d_68 (Conv1D)          (None, 18, 96)            18528     \n",
      "                                                                 \n",
      " dropout_107 (Dropout)       (None, 18, 96)            0         \n",
      "                                                                 \n",
      " lstm_85 (LSTM)              (None, 18, 128)           115200    \n",
      "                                                                 \n",
      " dropout_108 (Dropout)       (None, 18, 128)           0         \n",
      "                                                                 \n",
      " lstm_86 (LSTM)              (None, 128)               131584    \n",
      "                                                                 \n",
      " dropout_109 (Dropout)       (None, 128)               0         \n",
      "                                                                 \n",
      " dense_63 (Dense)            (None, 512)               66048     \n",
      "                                                                 \n",
      " dropout_110 (Dropout)       (None, 512)               0         \n",
      "                                                                 \n",
      " dense_64 (Dense)            (None, 10)                5130      \n",
      "                                                                 \n",
      "=================================================================\n",
      "Total params: 358,794\n",
      "Trainable params: 358,738\n",
      "Non-trainable params: 56\n",
      "_________________________________________________________________\n",
      "Epoch 1/3\n",
      "605/605 [==============================] - 44s 66ms/step - loss: 0.9648 - categorical_accuracy: 0.6907\n",
      "Epoch 2/3\n",
      "605/605 [==============================] - 40s 67ms/step - loss: 0.6856 - categorical_accuracy: 0.7912\n",
      "Epoch 3/3\n",
      "605/605 [==============================] - 40s 66ms/step - loss: 0.6270 - categorical_accuracy: 0.8072\n",
      "21/21 [==============================] - 1s 19ms/step\n",
      "Model: \"sequential_42\"\n",
      "_________________________________________________________________\n",
      " Layer (type)                Output Shape              Param #   \n",
      "=================================================================\n",
      " batch_normalization_17 (Bat  (None, 28, 28)           112       \n",
      " chNormalization)                                                \n",
      "                                                                 \n",
      " conv1d_69 (Conv1D)          (None, 24, 48)            6768      \n",
      "                                                                 \n",
      " dropout_111 (Dropout)       (None, 24, 48)            0         \n",
      "                                                                 \n",
      " conv1d_70 (Conv1D)          (None, 20, 64)            15424     \n",
      "                                                                 \n",
      " dropout_112 (Dropout)       (None, 20, 64)            0         \n",
      "                                                                 \n",
      " conv1d_71 (Conv1D)          (None, 18, 96)            18528     \n",
      "                                                                 \n",
      " dropout_113 (Dropout)       (None, 18, 96)            0         \n",
      "                                                                 \n",
      " lstm_87 (LSTM)              (None, 18, 128)           115200    \n",
      "                                                                 \n",
      " dropout_114 (Dropout)       (None, 18, 128)           0         \n",
      "                                                                 \n",
      " lstm_88 (LSTM)              (None, 128)               131584    \n",
      "                                                                 \n",
      " dropout_115 (Dropout)       (None, 128)               0         \n",
      "                                                                 \n",
      " dense_65 (Dense)            (None, 512)               66048     \n",
      "                                                                 \n",
      " dropout_116 (Dropout)       (None, 512)               0         \n",
      "                                                                 \n",
      " dense_66 (Dense)            (None, 10)                5130      \n",
      "                                                                 \n",
      "=================================================================\n",
      "Total params: 358,794\n",
      "Trainable params: 358,738\n",
      "Non-trainable params: 56\n",
      "_________________________________________________________________\n",
      "Epoch 1/3\n",
      "605/605 [==============================] - 44s 67ms/step - loss: 0.9672 - categorical_accuracy: 0.6876\n",
      "Epoch 2/3\n",
      "605/605 [==============================] - 40s 67ms/step - loss: 0.6944 - categorical_accuracy: 0.7851\n",
      "Epoch 3/3\n",
      "605/605 [==============================] - 41s 67ms/step - loss: 0.6213 - categorical_accuracy: 0.8118\n",
      "21/21 [==============================] - 1s 18ms/step\n",
      "Model: \"sequential_43\"\n",
      "_________________________________________________________________\n",
      " Layer (type)                Output Shape              Param #   \n",
      "=================================================================\n",
      " batch_normalization_18 (Bat  (None, 28, 28)           112       \n",
      " chNormalization)                                                \n",
      "                                                                 \n",
      " conv1d_72 (Conv1D)          (None, 24, 48)            6768      \n",
      "                                                                 \n",
      " dropout_117 (Dropout)       (None, 24, 48)            0         \n",
      "                                                                 \n",
      " conv1d_73 (Conv1D)          (None, 20, 64)            15424     \n",
      "                                                                 \n",
      " dropout_118 (Dropout)       (None, 20, 64)            0         \n",
      "                                                                 \n",
      " conv1d_74 (Conv1D)          (None, 18, 96)            18528     \n",
      "                                                                 \n",
      " dropout_119 (Dropout)       (None, 18, 96)            0         \n",
      "                                                                 \n",
      " lstm_89 (LSTM)              (None, 18, 128)           115200    \n",
      "                                                                 \n",
      " dropout_120 (Dropout)       (None, 18, 128)           0         \n",
      "                                                                 \n",
      " lstm_90 (LSTM)              (None, 128)               131584    \n",
      "                                                                 \n",
      " dropout_121 (Dropout)       (None, 128)               0         \n",
      "                                                                 \n",
      " dense_67 (Dense)            (None, 512)               66048     \n",
      "                                                                 \n",
      " dropout_122 (Dropout)       (None, 512)               0         \n",
      "                                                                 \n",
      " dense_68 (Dense)            (None, 10)                5130      \n",
      "                                                                 \n",
      "=================================================================\n",
      "Total params: 358,794\n",
      "Trainable params: 358,738\n",
      "Non-trainable params: 56\n",
      "_________________________________________________________________\n",
      "Epoch 1/3\n",
      "605/605 [==============================] - 45s 68ms/step - loss: 0.9519 - categorical_accuracy: 0.6930\n",
      "Epoch 2/3\n",
      "605/605 [==============================] - 41s 68ms/step - loss: 0.6922 - categorical_accuracy: 0.7873\n",
      "Epoch 3/3\n",
      "605/605 [==============================] - 41s 68ms/step - loss: 0.6168 - categorical_accuracy: 0.8138\n",
      "21/21 [==============================] - 1s 19ms/step\n",
      "Model: \"sequential_44\"\n",
      "_________________________________________________________________\n",
      " Layer (type)                Output Shape              Param #   \n",
      "=================================================================\n",
      " batch_normalization_19 (Bat  (None, 28, 28)           112       \n",
      " chNormalization)                                                \n",
      "                                                                 \n",
      " conv1d_75 (Conv1D)          (None, 24, 48)            6768      \n",
      "                                                                 \n",
      " dropout_123 (Dropout)       (None, 24, 48)            0         \n",
      "                                                                 \n",
      " conv1d_76 (Conv1D)          (None, 20, 64)            15424     \n",
      "                                                                 \n",
      " dropout_124 (Dropout)       (None, 20, 64)            0         \n",
      "                                                                 \n",
      " conv1d_77 (Conv1D)          (None, 18, 96)            18528     \n",
      "                                                                 \n",
      " dropout_125 (Dropout)       (None, 18, 96)            0         \n",
      "                                                                 \n",
      " lstm_91 (LSTM)              (None, 18, 128)           115200    \n",
      "                                                                 \n",
      " dropout_126 (Dropout)       (None, 18, 128)           0         \n",
      "                                                                 \n",
      " lstm_92 (LSTM)              (None, 128)               131584    \n",
      "                                                                 \n",
      " dropout_127 (Dropout)       (None, 128)               0         \n",
      "                                                                 \n",
      " dense_69 (Dense)            (None, 512)               66048     \n",
      "                                                                 \n",
      " dropout_128 (Dropout)       (None, 512)               0         \n",
      "                                                                 \n",
      " dense_70 (Dense)            (None, 10)                5130      \n",
      "                                                                 \n",
      "=================================================================\n",
      "Total params: 358,794\n",
      "Trainable params: 358,738\n",
      "Non-trainable params: 56\n",
      "_________________________________________________________________\n",
      "Epoch 1/3\n",
      "605/605 [==============================] - 45s 67ms/step - loss: 0.9514 - categorical_accuracy: 0.6971\n",
      "Epoch 2/3\n",
      "605/605 [==============================] - 40s 67ms/step - loss: 0.6911 - categorical_accuracy: 0.7842\n",
      "Epoch 3/3\n",
      "605/605 [==============================] - 40s 67ms/step - loss: 0.6256 - categorical_accuracy: 0.8084\n",
      "21/21 [==============================] - 1s 19ms/step\n",
      "Model: \"sequential_45\"\n",
      "_________________________________________________________________\n",
      " Layer (type)                Output Shape              Param #   \n",
      "=================================================================\n",
      " batch_normalization_20 (Bat  (None, 28, 28)           112       \n",
      " chNormalization)                                                \n",
      "                                                                 \n",
      " conv1d_78 (Conv1D)          (None, 24, 48)            6768      \n",
      "                                                                 \n",
      " dropout_129 (Dropout)       (None, 24, 48)            0         \n",
      "                                                                 \n",
      " conv1d_79 (Conv1D)          (None, 20, 64)            15424     \n",
      "                                                                 \n",
      " dropout_130 (Dropout)       (None, 20, 64)            0         \n",
      "                                                                 \n",
      " conv1d_80 (Conv1D)          (None, 18, 96)            18528     \n",
      "                                                                 \n",
      " dropout_131 (Dropout)       (None, 18, 96)            0         \n",
      "                                                                 \n",
      " lstm_93 (LSTM)              (None, 18, 128)           115200    \n",
      "                                                                 \n",
      " dropout_132 (Dropout)       (None, 18, 128)           0         \n",
      "                                                                 \n",
      " lstm_94 (LSTM)              (None, 128)               131584    \n",
      "                                                                 \n",
      " dropout_133 (Dropout)       (None, 128)               0         \n",
      "                                                                 \n",
      " dense_71 (Dense)            (None, 512)               66048     \n",
      "                                                                 \n",
      " dropout_134 (Dropout)       (None, 512)               0         \n",
      "                                                                 \n",
      " dense_72 (Dense)            (None, 10)                5130      \n",
      "                                                                 \n",
      "=================================================================\n",
      "Total params: 358,794\n",
      "Trainable params: 358,738\n",
      "Non-trainable params: 56\n",
      "_________________________________________________________________\n",
      "Epoch 1/3\n",
      "605/605 [==============================] - 46s 68ms/step - loss: 0.9555 - categorical_accuracy: 0.6931\n",
      "Epoch 2/3\n",
      "605/605 [==============================] - 41s 68ms/step - loss: 0.6857 - categorical_accuracy: 0.7872\n",
      "Epoch 3/3\n",
      "605/605 [==============================] - 41s 68ms/step - loss: 0.6229 - categorical_accuracy: 0.8098\n",
      "21/21 [==============================] - 1s 20ms/step\n",
      "Model: \"sequential_46\"\n",
      "_________________________________________________________________\n",
      " Layer (type)                Output Shape              Param #   \n",
      "=================================================================\n",
      " batch_normalization_21 (Bat  (None, 28, 28)           112       \n",
      " chNormalization)                                                \n",
      "                                                                 \n",
      " conv1d_81 (Conv1D)          (None, 24, 48)            6768      \n",
      "                                                                 \n",
      " dropout_135 (Dropout)       (None, 24, 48)            0         \n",
      "                                                                 \n",
      " conv1d_82 (Conv1D)          (None, 20, 64)            15424     \n",
      "                                                                 \n",
      " dropout_136 (Dropout)       (None, 20, 64)            0         \n",
      "                                                                 \n",
      " conv1d_83 (Conv1D)          (None, 18, 96)            18528     \n",
      "                                                                 \n",
      " dropout_137 (Dropout)       (None, 18, 96)            0         \n",
      "                                                                 \n",
      " lstm_95 (LSTM)              (None, 18, 128)           115200    \n",
      "                                                                 \n",
      " dropout_138 (Dropout)       (None, 18, 128)           0         \n",
      "                                                                 \n",
      " lstm_96 (LSTM)              (None, 128)               131584    \n",
      "                                                                 \n",
      " dropout_139 (Dropout)       (None, 128)               0         \n",
      "                                                                 \n",
      " dense_73 (Dense)            (None, 512)               66048     \n",
      "                                                                 \n",
      " dropout_140 (Dropout)       (None, 512)               0         \n",
      "                                                                 \n",
      " dense_74 (Dense)            (None, 10)                5130      \n",
      "                                                                 \n",
      "=================================================================\n",
      "Total params: 358,794\n",
      "Trainable params: 358,738\n",
      "Non-trainable params: 56\n",
      "_________________________________________________________________\n",
      "Epoch 1/3\n",
      "605/605 [==============================] - 45s 68ms/step - loss: 0.9446 - categorical_accuracy: 0.6954\n",
      "Epoch 2/3\n",
      "605/605 [==============================] - 41s 67ms/step - loss: 0.6682 - categorical_accuracy: 0.7959\n",
      "Epoch 3/3\n",
      "605/605 [==============================] - 41s 67ms/step - loss: 0.6092 - categorical_accuracy: 0.8144\n",
      "21/21 [==============================] - 1s 19ms/step\n",
      "Model: \"sequential_47\"\n",
      "_________________________________________________________________\n",
      " Layer (type)                Output Shape              Param #   \n",
      "=================================================================\n",
      " batch_normalization_22 (Bat  (None, 28, 28)           112       \n",
      " chNormalization)                                                \n",
      "                                                                 \n",
      " conv1d_84 (Conv1D)          (None, 24, 48)            6768      \n",
      "                                                                 \n",
      " dropout_141 (Dropout)       (None, 24, 48)            0         \n",
      "                                                                 \n",
      " conv1d_85 (Conv1D)          (None, 20, 64)            15424     \n",
      "                                                                 \n",
      " dropout_142 (Dropout)       (None, 20, 64)            0         \n",
      "                                                                 \n",
      " conv1d_86 (Conv1D)          (None, 18, 96)            18528     \n",
      "                                                                 \n",
      " dropout_143 (Dropout)       (None, 18, 96)            0         \n",
      "                                                                 \n",
      " lstm_97 (LSTM)              (None, 18, 128)           115200    \n",
      "                                                                 \n",
      " dropout_144 (Dropout)       (None, 18, 128)           0         \n",
      "                                                                 \n",
      " lstm_98 (LSTM)              (None, 128)               131584    \n",
      "                                                                 \n",
      " dropout_145 (Dropout)       (None, 128)               0         \n",
      "                                                                 \n",
      " dense_75 (Dense)            (None, 512)               66048     \n",
      "                                                                 \n",
      " dropout_146 (Dropout)       (None, 512)               0         \n",
      "                                                                 \n",
      " dense_76 (Dense)            (None, 10)                5130      \n",
      "                                                                 \n",
      "=================================================================\n",
      "Total params: 358,794\n",
      "Trainable params: 358,738\n",
      "Non-trainable params: 56\n",
      "_________________________________________________________________\n",
      "Epoch 1/3\n",
      "605/605 [==============================] - 46s 68ms/step - loss: 0.9523 - categorical_accuracy: 0.6928\n",
      "Epoch 2/3\n",
      "605/605 [==============================] - 42s 69ms/step - loss: 0.6894 - categorical_accuracy: 0.7860\n",
      "Epoch 3/3\n",
      "605/605 [==============================] - 42s 69ms/step - loss: 0.6312 - categorical_accuracy: 0.8065\n",
      "21/21 [==============================] - 1s 19ms/step\n",
      "Model: \"sequential_48\"\n",
      "_________________________________________________________________\n",
      " Layer (type)                Output Shape              Param #   \n",
      "=================================================================\n",
      " batch_normalization_23 (Bat  (None, 28, 28)           112       \n",
      " chNormalization)                                                \n",
      "                                                                 \n",
      " conv1d_87 (Conv1D)          (None, 24, 48)            6768      \n",
      "                                                                 \n",
      " dropout_147 (Dropout)       (None, 24, 48)            0         \n",
      "                                                                 \n",
      " conv1d_88 (Conv1D)          (None, 20, 64)            15424     \n",
      "                                                                 \n",
      " dropout_148 (Dropout)       (None, 20, 64)            0         \n",
      "                                                                 \n",
      " conv1d_89 (Conv1D)          (None, 18, 96)            18528     \n",
      "                                                                 \n",
      " dropout_149 (Dropout)       (None, 18, 96)            0         \n",
      "                                                                 \n",
      " lstm_99 (LSTM)              (None, 18, 128)           115200    \n",
      "                                                                 \n",
      " dropout_150 (Dropout)       (None, 18, 128)           0         \n",
      "                                                                 \n",
      " lstm_100 (LSTM)             (None, 128)               131584    \n",
      "                                                                 \n",
      " dropout_151 (Dropout)       (None, 128)               0         \n",
      "                                                                 \n",
      " dense_77 (Dense)            (None, 512)               66048     \n",
      "                                                                 \n",
      " dropout_152 (Dropout)       (None, 512)               0         \n",
      "                                                                 \n",
      " dense_78 (Dense)            (None, 10)                5130      \n",
      "                                                                 \n",
      "=================================================================\n",
      "Total params: 358,794\n",
      "Trainable params: 358,738\n",
      "Non-trainable params: 56\n",
      "_________________________________________________________________\n",
      "Epoch 1/3\n",
      "605/605 [==============================] - 46s 69ms/step - loss: 0.9758 - categorical_accuracy: 0.6881\n",
      "Epoch 2/3\n",
      "605/605 [==============================] - 42s 70ms/step - loss: 0.6796 - categorical_accuracy: 0.7877\n",
      "Epoch 3/3\n",
      "605/605 [==============================] - 42s 70ms/step - loss: 0.6311 - categorical_accuracy: 0.8083\n",
      "21/21 [==============================] - 1s 21ms/step\n",
      "Model: \"sequential_49\"\n",
      "_________________________________________________________________\n",
      " Layer (type)                Output Shape              Param #   \n",
      "=================================================================\n",
      " batch_normalization_24 (Bat  (None, 28, 28)           112       \n",
      " chNormalization)                                                \n",
      "                                                                 \n",
      " conv1d_90 (Conv1D)          (None, 24, 48)            6768      \n",
      "                                                                 \n",
      " dropout_153 (Dropout)       (None, 24, 48)            0         \n",
      "                                                                 \n",
      " conv1d_91 (Conv1D)          (None, 20, 64)            15424     \n",
      "                                                                 \n",
      " dropout_154 (Dropout)       (None, 20, 64)            0         \n",
      "                                                                 \n",
      " conv1d_92 (Conv1D)          (None, 18, 96)            18528     \n",
      "                                                                 \n",
      " dropout_155 (Dropout)       (None, 18, 96)            0         \n",
      "                                                                 \n",
      " lstm_101 (LSTM)             (None, 18, 128)           115200    \n",
      "                                                                 \n",
      " dropout_156 (Dropout)       (None, 18, 128)           0         \n",
      "                                                                 \n",
      " lstm_102 (LSTM)             (None, 128)               131584    \n",
      "                                                                 \n",
      " dropout_157 (Dropout)       (None, 128)               0         \n",
      "                                                                 \n",
      " dense_79 (Dense)            (None, 512)               66048     \n",
      "                                                                 \n",
      " dropout_158 (Dropout)       (None, 512)               0         \n",
      "                                                                 \n",
      " dense_80 (Dense)            (None, 10)                5130      \n",
      "                                                                 \n",
      "=================================================================\n",
      "Total params: 358,794\n",
      "Trainable params: 358,738\n",
      "Non-trainable params: 56\n",
      "_________________________________________________________________\n",
      "Epoch 1/3\n",
      "605/605 [==============================] - 46s 70ms/step - loss: 0.9466 - categorical_accuracy: 0.6936\n",
      "Epoch 2/3\n",
      "605/605 [==============================] - 42s 70ms/step - loss: 0.6888 - categorical_accuracy: 0.7885\n",
      "Epoch 3/3\n",
      "605/605 [==============================] - 42s 70ms/step - loss: 0.6227 - categorical_accuracy: 0.8110\n",
      "21/21 [==============================] - 1s 20ms/step\n",
      "Model: \"sequential_50\"\n",
      "_________________________________________________________________\n",
      " Layer (type)                Output Shape              Param #   \n",
      "=================================================================\n",
      " batch_normalization_25 (Bat  (None, 28, 28)           112       \n",
      " chNormalization)                                                \n",
      "                                                                 \n",
      " conv1d_93 (Conv1D)          (None, 24, 48)            6768      \n",
      "                                                                 \n",
      " dropout_159 (Dropout)       (None, 24, 48)            0         \n",
      "                                                                 \n",
      " conv1d_94 (Conv1D)          (None, 20, 64)            15424     \n",
      "                                                                 \n",
      " dropout_160 (Dropout)       (None, 20, 64)            0         \n",
      "                                                                 \n",
      " conv1d_95 (Conv1D)          (None, 18, 96)            18528     \n",
      "                                                                 \n",
      " dropout_161 (Dropout)       (None, 18, 96)            0         \n",
      "                                                                 \n",
      " lstm_103 (LSTM)             (None, 18, 128)           115200    \n",
      "                                                                 \n",
      " dropout_162 (Dropout)       (None, 18, 128)           0         \n",
      "                                                                 \n",
      " lstm_104 (LSTM)             (None, 128)               131584    \n",
      "                                                                 \n",
      " dropout_163 (Dropout)       (None, 128)               0         \n",
      "                                                                 \n",
      " dense_81 (Dense)            (None, 512)               66048     \n",
      "                                                                 \n",
      " dropout_164 (Dropout)       (None, 512)               0         \n",
      "                                                                 \n",
      " dense_82 (Dense)            (None, 10)                5130      \n",
      "                                                                 \n",
      "=================================================================\n",
      "Total params: 358,794\n",
      "Trainable params: 358,738\n",
      "Non-trainable params: 56\n",
      "_________________________________________________________________\n",
      "Epoch 1/3\n",
      "605/605 [==============================] - 47s 70ms/step - loss: 0.9716 - categorical_accuracy: 0.6861\n",
      "Epoch 2/3\n",
      "605/605 [==============================] - 43s 70ms/step - loss: 0.6864 - categorical_accuracy: 0.7884\n",
      "Epoch 3/3\n",
      "605/605 [==============================] - 43s 70ms/step - loss: 0.6296 - categorical_accuracy: 0.8056\n",
      "21/21 [==============================] - 1s 20ms/step\n",
      "Model: \"sequential_51\"\n",
      "_________________________________________________________________\n",
      " Layer (type)                Output Shape              Param #   \n",
      "=================================================================\n",
      " batch_normalization_26 (Bat  (None, 28, 28)           112       \n",
      " chNormalization)                                                \n",
      "                                                                 \n",
      " conv1d_96 (Conv1D)          (None, 24, 48)            6768      \n",
      "                                                                 \n",
      " dropout_165 (Dropout)       (None, 24, 48)            0         \n",
      "                                                                 \n",
      " conv1d_97 (Conv1D)          (None, 20, 64)            15424     \n",
      "                                                                 \n",
      " dropout_166 (Dropout)       (None, 20, 64)            0         \n",
      "                                                                 \n",
      " conv1d_98 (Conv1D)          (None, 18, 96)            18528     \n",
      "                                                                 \n",
      " dropout_167 (Dropout)       (None, 18, 96)            0         \n",
      "                                                                 \n",
      " lstm_105 (LSTM)             (None, 18, 128)           115200    \n",
      "                                                                 \n",
      " dropout_168 (Dropout)       (None, 18, 128)           0         \n",
      "                                                                 \n",
      " lstm_106 (LSTM)             (None, 128)               131584    \n",
      "                                                                 \n",
      " dropout_169 (Dropout)       (None, 128)               0         \n",
      "                                                                 \n",
      " dense_83 (Dense)            (None, 512)               66048     \n",
      "                                                                 \n",
      " dropout_170 (Dropout)       (None, 512)               0         \n",
      "                                                                 \n",
      " dense_84 (Dense)            (None, 10)                5130      \n",
      "                                                                 \n",
      "=================================================================\n",
      "Total params: 358,794\n",
      "Trainable params: 358,738\n",
      "Non-trainable params: 56\n",
      "_________________________________________________________________\n",
      "Epoch 1/3\n",
      "605/605 [==============================] - 47s 70ms/step - loss: 0.9686 - categorical_accuracy: 0.6834\n",
      "Epoch 2/3\n",
      "605/605 [==============================] - 43s 71ms/step - loss: 0.6755 - categorical_accuracy: 0.7914\n",
      "Epoch 3/3\n",
      "605/605 [==============================] - 43s 70ms/step - loss: 0.6194 - categorical_accuracy: 0.8098\n",
      "21/21 [==============================] - 1s 19ms/step\n",
      "Model: \"sequential_52\"\n",
      "_________________________________________________________________\n",
      " Layer (type)                Output Shape              Param #   \n",
      "=================================================================\n",
      " batch_normalization_27 (Bat  (None, 28, 28)           112       \n",
      " chNormalization)                                                \n",
      "                                                                 \n",
      " conv1d_99 (Conv1D)          (None, 24, 48)            6768      \n",
      "                                                                 \n",
      " dropout_171 (Dropout)       (None, 24, 48)            0         \n",
      "                                                                 \n",
      " conv1d_100 (Conv1D)         (None, 20, 64)            15424     \n",
      "                                                                 \n",
      " dropout_172 (Dropout)       (None, 20, 64)            0         \n",
      "                                                                 \n",
      " conv1d_101 (Conv1D)         (None, 18, 96)            18528     \n",
      "                                                                 \n",
      " dropout_173 (Dropout)       (None, 18, 96)            0         \n",
      "                                                                 \n",
      " lstm_107 (LSTM)             (None, 18, 128)           115200    \n",
      "                                                                 \n",
      " dropout_174 (Dropout)       (None, 18, 128)           0         \n",
      "                                                                 \n",
      " lstm_108 (LSTM)             (None, 128)               131584    \n",
      "                                                                 \n",
      " dropout_175 (Dropout)       (None, 128)               0         \n",
      "                                                                 \n",
      " dense_85 (Dense)            (None, 512)               66048     \n",
      "                                                                 \n",
      " dropout_176 (Dropout)       (None, 512)               0         \n",
      "                                                                 \n",
      " dense_86 (Dense)            (None, 10)                5130      \n",
      "                                                                 \n",
      "=================================================================\n",
      "Total params: 358,794\n",
      "Trainable params: 358,738\n",
      "Non-trainable params: 56\n",
      "_________________________________________________________________\n",
      "Epoch 1/3\n",
      "605/605 [==============================] - 47s 71ms/step - loss: 0.9411 - categorical_accuracy: 0.6991\n",
      "Epoch 2/3\n",
      "605/605 [==============================] - 43s 71ms/step - loss: 0.6774 - categorical_accuracy: 0.7930\n",
      "Epoch 3/3\n",
      "605/605 [==============================] - 43s 71ms/step - loss: 0.6179 - categorical_accuracy: 0.8095\n",
      "21/21 [==============================] - 1s 20ms/step\n",
      "Model: \"sequential_53\"\n",
      "_________________________________________________________________\n",
      " Layer (type)                Output Shape              Param #   \n",
      "=================================================================\n",
      " batch_normalization_28 (Bat  (None, 28, 28)           112       \n",
      " chNormalization)                                                \n",
      "                                                                 \n",
      " conv1d_102 (Conv1D)         (None, 24, 48)            6768      \n",
      "                                                                 \n",
      " dropout_177 (Dropout)       (None, 24, 48)            0         \n",
      "                                                                 \n",
      " conv1d_103 (Conv1D)         (None, 20, 64)            15424     \n",
      "                                                                 \n",
      " dropout_178 (Dropout)       (None, 20, 64)            0         \n",
      "                                                                 \n",
      " conv1d_104 (Conv1D)         (None, 18, 96)            18528     \n",
      "                                                                 \n",
      " dropout_179 (Dropout)       (None, 18, 96)            0         \n",
      "                                                                 \n",
      " lstm_109 (LSTM)             (None, 18, 128)           115200    \n",
      "                                                                 \n",
      " dropout_180 (Dropout)       (None, 18, 128)           0         \n",
      "                                                                 \n",
      " lstm_110 (LSTM)             (None, 128)               131584    \n",
      "                                                                 \n",
      " dropout_181 (Dropout)       (None, 128)               0         \n",
      "                                                                 \n",
      " dense_87 (Dense)            (None, 512)               66048     \n",
      "                                                                 \n",
      " dropout_182 (Dropout)       (None, 512)               0         \n",
      "                                                                 \n",
      " dense_88 (Dense)            (None, 10)                5130      \n",
      "                                                                 \n",
      "=================================================================\n",
      "Total params: 358,794\n",
      "Trainable params: 358,738\n",
      "Non-trainable params: 56\n",
      "_________________________________________________________________\n",
      "Epoch 1/3\n",
      "605/605 [==============================] - 48s 71ms/step - loss: 0.9621 - categorical_accuracy: 0.6901\n",
      "Epoch 2/3\n",
      "605/605 [==============================] - 43s 71ms/step - loss: 0.6868 - categorical_accuracy: 0.7894\n",
      "Epoch 3/3\n",
      "605/605 [==============================] - 43s 71ms/step - loss: 0.6192 - categorical_accuracy: 0.8122\n",
      "21/21 [==============================] - 1s 21ms/step\n",
      "Model: \"sequential_54\"\n",
      "_________________________________________________________________\n",
      " Layer (type)                Output Shape              Param #   \n",
      "=================================================================\n",
      " batch_normalization_29 (Bat  (None, 28, 28)           112       \n",
      " chNormalization)                                                \n",
      "                                                                 \n",
      " conv1d_105 (Conv1D)         (None, 24, 48)            6768      \n",
      "                                                                 \n",
      " dropout_183 (Dropout)       (None, 24, 48)            0         \n",
      "                                                                 \n",
      " conv1d_106 (Conv1D)         (None, 20, 64)            15424     \n",
      "                                                                 \n",
      " dropout_184 (Dropout)       (None, 20, 64)            0         \n",
      "                                                                 \n",
      " conv1d_107 (Conv1D)         (None, 18, 96)            18528     \n",
      "                                                                 \n",
      " dropout_185 (Dropout)       (None, 18, 96)            0         \n",
      "                                                                 \n",
      " lstm_111 (LSTM)             (None, 18, 128)           115200    \n",
      "                                                                 \n",
      " dropout_186 (Dropout)       (None, 18, 128)           0         \n",
      "                                                                 \n",
      " lstm_112 (LSTM)             (None, 128)               131584    \n",
      "                                                                 \n",
      " dropout_187 (Dropout)       (None, 128)               0         \n",
      "                                                                 \n",
      " dense_89 (Dense)            (None, 512)               66048     \n",
      "                                                                 \n",
      " dropout_188 (Dropout)       (None, 512)               0         \n",
      "                                                                 \n",
      " dense_90 (Dense)            (None, 10)                5130      \n",
      "                                                                 \n",
      "=================================================================\n",
      "Total params: 358,794\n",
      "Trainable params: 358,738\n",
      "Non-trainable params: 56\n",
      "_________________________________________________________________\n",
      "Epoch 1/3\n",
      "605/605 [==============================] - 47s 71ms/step - loss: 0.9723 - categorical_accuracy: 0.6886\n",
      "Epoch 2/3\n",
      "605/605 [==============================] - 43s 71ms/step - loss: 0.6974 - categorical_accuracy: 0.7847\n",
      "Epoch 3/3\n",
      "605/605 [==============================] - 43s 71ms/step - loss: 0.6397 - categorical_accuracy: 0.8042\n",
      "21/21 [==============================] - 1s 20ms/step\n",
      "Model: \"sequential_55\"\n",
      "_________________________________________________________________\n",
      " Layer (type)                Output Shape              Param #   \n",
      "=================================================================\n",
      " batch_normalization_30 (Bat  (None, 28, 28)           112       \n",
      " chNormalization)                                                \n",
      "                                                                 \n",
      " conv1d_108 (Conv1D)         (None, 24, 48)            6768      \n",
      "                                                                 \n",
      " dropout_189 (Dropout)       (None, 24, 48)            0         \n",
      "                                                                 \n",
      " conv1d_109 (Conv1D)         (None, 20, 64)            15424     \n",
      "                                                                 \n",
      " dropout_190 (Dropout)       (None, 20, 64)            0         \n",
      "                                                                 \n",
      " conv1d_110 (Conv1D)         (None, 18, 96)            18528     \n",
      "                                                                 \n",
      " dropout_191 (Dropout)       (None, 18, 96)            0         \n",
      "                                                                 \n",
      " lstm_113 (LSTM)             (None, 18, 128)           115200    \n",
      "                                                                 \n",
      " dropout_192 (Dropout)       (None, 18, 128)           0         \n",
      "                                                                 \n",
      " lstm_114 (LSTM)             (None, 128)               131584    \n",
      "                                                                 \n",
      " dropout_193 (Dropout)       (None, 128)               0         \n",
      "                                                                 \n",
      " dense_91 (Dense)            (None, 512)               66048     \n",
      "                                                                 \n",
      " dropout_194 (Dropout)       (None, 512)               0         \n",
      "                                                                 \n",
      " dense_92 (Dense)            (None, 10)                5130      \n",
      "                                                                 \n",
      "=================================================================\n",
      "Total params: 358,794\n",
      "Trainable params: 358,738\n",
      "Non-trainable params: 56\n",
      "_________________________________________________________________\n",
      "Epoch 1/3\n",
      "605/605 [==============================] - 47s 72ms/step - loss: 0.9494 - categorical_accuracy: 0.6965\n",
      "Epoch 2/3\n",
      "605/605 [==============================] - 44s 73ms/step - loss: 0.6829 - categorical_accuracy: 0.7927\n",
      "Epoch 3/3\n",
      "605/605 [==============================] - 44s 73ms/step - loss: 0.6209 - categorical_accuracy: 0.8094\n",
      "21/21 [==============================] - 1s 20ms/step\n",
      "Model: \"sequential_56\"\n",
      "_________________________________________________________________\n",
      " Layer (type)                Output Shape              Param #   \n",
      "=================================================================\n",
      " batch_normalization_31 (Bat  (None, 28, 28)           112       \n",
      " chNormalization)                                                \n",
      "                                                                 \n",
      " conv1d_111 (Conv1D)         (None, 24, 48)            6768      \n",
      "                                                                 \n",
      " dropout_195 (Dropout)       (None, 24, 48)            0         \n",
      "                                                                 \n",
      " conv1d_112 (Conv1D)         (None, 20, 64)            15424     \n",
      "                                                                 \n",
      " dropout_196 (Dropout)       (None, 20, 64)            0         \n",
      "                                                                 \n",
      " conv1d_113 (Conv1D)         (None, 18, 96)            18528     \n",
      "                                                                 \n",
      " dropout_197 (Dropout)       (None, 18, 96)            0         \n",
      "                                                                 \n",
      " lstm_115 (LSTM)             (None, 18, 128)           115200    \n",
      "                                                                 \n",
      " dropout_198 (Dropout)       (None, 18, 128)           0         \n",
      "                                                                 \n",
      " lstm_116 (LSTM)             (None, 128)               131584    \n",
      "                                                                 \n",
      " dropout_199 (Dropout)       (None, 128)               0         \n",
      "                                                                 \n",
      " dense_93 (Dense)            (None, 512)               66048     \n",
      "                                                                 \n",
      " dropout_200 (Dropout)       (None, 512)               0         \n",
      "                                                                 \n",
      " dense_94 (Dense)            (None, 10)                5130      \n",
      "                                                                 \n",
      "=================================================================\n",
      "Total params: 358,794\n",
      "Trainable params: 358,738\n",
      "Non-trainable params: 56\n",
      "_________________________________________________________________\n",
      "Epoch 1/3\n",
      "605/605 [==============================] - 48s 73ms/step - loss: 0.9584 - categorical_accuracy: 0.6918\n",
      "Epoch 2/3\n",
      "605/605 [==============================] - 44s 73ms/step - loss: 0.6902 - categorical_accuracy: 0.7849\n",
      "Epoch 3/3\n",
      "605/605 [==============================] - 44s 73ms/step - loss: 0.6238 - categorical_accuracy: 0.8077\n",
      "21/21 [==============================] - 2s 21ms/step\n",
      "Model: \"sequential_57\"\n",
      "_________________________________________________________________\n",
      " Layer (type)                Output Shape              Param #   \n",
      "=================================================================\n",
      " batch_normalization_32 (Bat  (None, 28, 28)           112       \n",
      " chNormalization)                                                \n",
      "                                                                 \n",
      " conv1d_114 (Conv1D)         (None, 24, 48)            6768      \n",
      "                                                                 \n",
      " dropout_201 (Dropout)       (None, 24, 48)            0         \n",
      "                                                                 \n",
      " conv1d_115 (Conv1D)         (None, 20, 64)            15424     \n",
      "                                                                 \n",
      " dropout_202 (Dropout)       (None, 20, 64)            0         \n",
      "                                                                 \n",
      " conv1d_116 (Conv1D)         (None, 18, 96)            18528     \n",
      "                                                                 \n",
      " dropout_203 (Dropout)       (None, 18, 96)            0         \n",
      "                                                                 \n",
      " lstm_117 (LSTM)             (None, 18, 128)           115200    \n",
      "                                                                 \n",
      " dropout_204 (Dropout)       (None, 18, 128)           0         \n",
      "                                                                 \n",
      " lstm_118 (LSTM)             (None, 128)               131584    \n",
      "                                                                 \n",
      " dropout_205 (Dropout)       (None, 128)               0         \n",
      "                                                                 \n",
      " dense_95 (Dense)            (None, 512)               66048     \n",
      "                                                                 \n",
      " dropout_206 (Dropout)       (None, 512)               0         \n",
      "                                                                 \n",
      " dense_96 (Dense)            (None, 10)                5130      \n",
      "                                                                 \n",
      "=================================================================\n",
      "Total params: 358,794\n",
      "Trainable params: 358,738\n",
      "Non-trainable params: 56\n",
      "_________________________________________________________________\n",
      "Epoch 1/3\n",
      "605/605 [==============================] - 48s 72ms/step - loss: 0.9420 - categorical_accuracy: 0.7006\n",
      "Epoch 2/3\n",
      "605/605 [==============================] - 44s 73ms/step - loss: 0.6837 - categorical_accuracy: 0.7887\n",
      "Epoch 3/3\n",
      "605/605 [==============================] - 45s 74ms/step - loss: 0.6186 - categorical_accuracy: 0.8118\n",
      "21/21 [==============================] - 1s 20ms/step\n",
      "Model: \"sequential_58\"\n",
      "_________________________________________________________________\n",
      " Layer (type)                Output Shape              Param #   \n",
      "=================================================================\n",
      " batch_normalization_33 (Bat  (None, 28, 28)           112       \n",
      " chNormalization)                                                \n",
      "                                                                 \n",
      " conv1d_117 (Conv1D)         (None, 24, 48)            6768      \n",
      "                                                                 \n",
      " dropout_207 (Dropout)       (None, 24, 48)            0         \n",
      "                                                                 \n",
      " conv1d_118 (Conv1D)         (None, 20, 64)            15424     \n",
      "                                                                 \n",
      " dropout_208 (Dropout)       (None, 20, 64)            0         \n",
      "                                                                 \n",
      " conv1d_119 (Conv1D)         (None, 18, 96)            18528     \n",
      "                                                                 \n",
      " dropout_209 (Dropout)       (None, 18, 96)            0         \n",
      "                                                                 \n",
      " lstm_119 (LSTM)             (None, 18, 128)           115200    \n",
      "                                                                 \n",
      " dropout_210 (Dropout)       (None, 18, 128)           0         \n",
      "                                                                 \n",
      " lstm_120 (LSTM)             (None, 128)               131584    \n",
      "                                                                 \n",
      " dropout_211 (Dropout)       (None, 128)               0         \n",
      "                                                                 \n",
      " dense_97 (Dense)            (None, 512)               66048     \n",
      "                                                                 \n",
      " dropout_212 (Dropout)       (None, 512)               0         \n",
      "                                                                 \n",
      " dense_98 (Dense)            (None, 10)                5130      \n",
      "                                                                 \n",
      "=================================================================\n",
      "Total params: 358,794\n",
      "Trainable params: 358,738\n",
      "Non-trainable params: 56\n",
      "_________________________________________________________________\n",
      "Epoch 1/3\n",
      "605/605 [==============================] - 49s 73ms/step - loss: 0.9558 - categorical_accuracy: 0.6891\n",
      "Epoch 2/3\n",
      "605/605 [==============================] - 44s 73ms/step - loss: 0.6748 - categorical_accuracy: 0.7952\n",
      "Epoch 3/3\n",
      "605/605 [==============================] - 45s 74ms/step - loss: 0.6110 - categorical_accuracy: 0.8128\n",
      "21/21 [==============================] - 1s 21ms/step\n",
      "Model: \"sequential_59\"\n",
      "_________________________________________________________________\n",
      " Layer (type)                Output Shape              Param #   \n",
      "=================================================================\n",
      " batch_normalization_34 (Bat  (None, 28, 28)           112       \n",
      " chNormalization)                                                \n",
      "                                                                 \n",
      " conv1d_120 (Conv1D)         (None, 24, 48)            6768      \n",
      "                                                                 \n",
      " dropout_213 (Dropout)       (None, 24, 48)            0         \n",
      "                                                                 \n",
      " conv1d_121 (Conv1D)         (None, 20, 64)            15424     \n",
      "                                                                 \n",
      " dropout_214 (Dropout)       (None, 20, 64)            0         \n",
      "                                                                 \n",
      " conv1d_122 (Conv1D)         (None, 18, 96)            18528     \n",
      "                                                                 \n",
      " dropout_215 (Dropout)       (None, 18, 96)            0         \n",
      "                                                                 \n",
      " lstm_121 (LSTM)             (None, 18, 128)           115200    \n",
      "                                                                 \n",
      " dropout_216 (Dropout)       (None, 18, 128)           0         \n",
      "                                                                 \n",
      " lstm_122 (LSTM)             (None, 128)               131584    \n",
      "                                                                 \n",
      " dropout_217 (Dropout)       (None, 128)               0         \n",
      "                                                                 \n",
      " dense_99 (Dense)            (None, 512)               66048     \n",
      "                                                                 \n",
      " dropout_218 (Dropout)       (None, 512)               0         \n",
      "                                                                 \n",
      " dense_100 (Dense)           (None, 10)                5130      \n",
      "                                                                 \n",
      "=================================================================\n",
      "Total params: 358,794\n",
      "Trainable params: 358,738\n",
      "Non-trainable params: 56\n",
      "_________________________________________________________________\n",
      "Epoch 1/3\n",
      "605/605 [==============================] - 48s 73ms/step - loss: 0.9712 - categorical_accuracy: 0.6861\n",
      "Epoch 2/3\n",
      "605/605 [==============================] - 45s 74ms/step - loss: 0.6820 - categorical_accuracy: 0.7904\n",
      "Epoch 3/3\n",
      "605/605 [==============================] - 45s 74ms/step - loss: 0.6247 - categorical_accuracy: 0.8092\n",
      "21/21 [==============================] - 1s 21ms/step\n",
      "Model: \"sequential_60\"\n",
      "_________________________________________________________________\n",
      " Layer (type)                Output Shape              Param #   \n",
      "=================================================================\n",
      " batch_normalization_35 (Bat  (None, 28, 28)           112       \n",
      " chNormalization)                                                \n",
      "                                                                 \n",
      " conv1d_123 (Conv1D)         (None, 24, 48)            6768      \n",
      "                                                                 \n",
      " dropout_219 (Dropout)       (None, 24, 48)            0         \n",
      "                                                                 \n",
      " conv1d_124 (Conv1D)         (None, 20, 64)            15424     \n",
      "                                                                 \n",
      " dropout_220 (Dropout)       (None, 20, 64)            0         \n",
      "                                                                 \n",
      " conv1d_125 (Conv1D)         (None, 18, 96)            18528     \n",
      "                                                                 \n",
      " dropout_221 (Dropout)       (None, 18, 96)            0         \n",
      "                                                                 \n",
      " lstm_123 (LSTM)             (None, 18, 128)           115200    \n",
      "                                                                 \n",
      " dropout_222 (Dropout)       (None, 18, 128)           0         \n",
      "                                                                 \n",
      " lstm_124 (LSTM)             (None, 128)               131584    \n",
      "                                                                 \n",
      " dropout_223 (Dropout)       (None, 128)               0         \n",
      "                                                                 \n",
      " dense_101 (Dense)           (None, 512)               66048     \n",
      "                                                                 \n",
      " dropout_224 (Dropout)       (None, 512)               0         \n",
      "                                                                 \n",
      " dense_102 (Dense)           (None, 10)                5130      \n",
      "                                                                 \n",
      "=================================================================\n",
      "Total params: 358,794\n",
      "Trainable params: 358,738\n",
      "Non-trainable params: 56\n",
      "_________________________________________________________________\n",
      "Epoch 1/3\n",
      "605/605 [==============================] - 48s 73ms/step - loss: 0.9679 - categorical_accuracy: 0.6878\n",
      "Epoch 2/3\n",
      "605/605 [==============================] - 44s 73ms/step - loss: 0.6737 - categorical_accuracy: 0.7918\n",
      "Epoch 3/3\n",
      "605/605 [==============================] - 44s 73ms/step - loss: 0.6138 - categorical_accuracy: 0.8110\n",
      "21/21 [==============================] - 1s 21ms/step\n",
      "Model: \"sequential_61\"\n",
      "_________________________________________________________________\n",
      " Layer (type)                Output Shape              Param #   \n",
      "=================================================================\n",
      " batch_normalization_36 (Bat  (None, 28, 28)           112       \n",
      " chNormalization)                                                \n",
      "                                                                 \n",
      " conv1d_126 (Conv1D)         (None, 24, 48)            6768      \n",
      "                                                                 \n",
      " dropout_225 (Dropout)       (None, 24, 48)            0         \n",
      "                                                                 \n",
      " conv1d_127 (Conv1D)         (None, 20, 64)            15424     \n",
      "                                                                 \n",
      " dropout_226 (Dropout)       (None, 20, 64)            0         \n",
      "                                                                 \n",
      " conv1d_128 (Conv1D)         (None, 18, 96)            18528     \n",
      "                                                                 \n",
      " dropout_227 (Dropout)       (None, 18, 96)            0         \n",
      "                                                                 \n",
      " lstm_125 (LSTM)             (None, 18, 128)           115200    \n",
      "                                                                 \n",
      " dropout_228 (Dropout)       (None, 18, 128)           0         \n",
      "                                                                 \n",
      " lstm_126 (LSTM)             (None, 128)               131584    \n",
      "                                                                 \n",
      " dropout_229 (Dropout)       (None, 128)               0         \n",
      "                                                                 \n",
      " dense_103 (Dense)           (None, 512)               66048     \n",
      "                                                                 \n",
      " dropout_230 (Dropout)       (None, 512)               0         \n",
      "                                                                 \n",
      " dense_104 (Dense)           (None, 10)                5130      \n",
      "                                                                 \n",
      "=================================================================\n",
      "Total params: 358,794\n",
      "Trainable params: 358,738\n",
      "Non-trainable params: 56\n",
      "_________________________________________________________________\n",
      "Epoch 1/3\n",
      "605/605 [==============================] - 50s 73ms/step - loss: 0.9828 - categorical_accuracy: 0.6814\n",
      "Epoch 2/3\n",
      "605/605 [==============================] - 44s 73ms/step - loss: 0.6937 - categorical_accuracy: 0.7879\n",
      "Epoch 3/3\n",
      "605/605 [==============================] - 44s 73ms/step - loss: 0.6272 - categorical_accuracy: 0.8105\n",
      "21/21 [==============================] - 1s 20ms/step\n",
      "Model: \"sequential_62\"\n",
      "_________________________________________________________________\n",
      " Layer (type)                Output Shape              Param #   \n",
      "=================================================================\n",
      " batch_normalization_37 (Bat  (None, 28, 28)           112       \n",
      " chNormalization)                                                \n",
      "                                                                 \n",
      " conv1d_129 (Conv1D)         (None, 24, 48)            6768      \n",
      "                                                                 \n",
      " dropout_231 (Dropout)       (None, 24, 48)            0         \n",
      "                                                                 \n",
      " conv1d_130 (Conv1D)         (None, 20, 64)            15424     \n",
      "                                                                 \n",
      " dropout_232 (Dropout)       (None, 20, 64)            0         \n",
      "                                                                 \n",
      " conv1d_131 (Conv1D)         (None, 18, 96)            18528     \n",
      "                                                                 \n",
      " dropout_233 (Dropout)       (None, 18, 96)            0         \n",
      "                                                                 \n",
      " lstm_127 (LSTM)             (None, 18, 128)           115200    \n",
      "                                                                 \n",
      " dropout_234 (Dropout)       (None, 18, 128)           0         \n",
      "                                                                 \n",
      " lstm_128 (LSTM)             (None, 128)               131584    \n",
      "                                                                 \n",
      " dropout_235 (Dropout)       (None, 128)               0         \n",
      "                                                                 \n",
      " dense_105 (Dense)           (None, 512)               66048     \n",
      "                                                                 \n",
      " dropout_236 (Dropout)       (None, 512)               0         \n",
      "                                                                 \n",
      " dense_106 (Dense)           (None, 10)                5130      \n",
      "                                                                 \n",
      "=================================================================\n",
      "Total params: 358,794\n",
      "Trainable params: 358,738\n",
      "Non-trainable params: 56\n",
      "_________________________________________________________________\n",
      "Epoch 1/3\n",
      "605/605 [==============================] - 48s 73ms/step - loss: 0.9471 - categorical_accuracy: 0.6988\n",
      "Epoch 2/3\n",
      "605/605 [==============================] - 45s 74ms/step - loss: 0.6796 - categorical_accuracy: 0.7919\n",
      "Epoch 3/3\n",
      "605/605 [==============================] - 44s 74ms/step - loss: 0.6162 - categorical_accuracy: 0.8110\n",
      "21/21 [==============================] - 1s 20ms/step\n",
      "Model: \"sequential_63\"\n",
      "_________________________________________________________________\n",
      " Layer (type)                Output Shape              Param #   \n",
      "=================================================================\n",
      " batch_normalization_38 (Bat  (None, 28, 28)           112       \n",
      " chNormalization)                                                \n",
      "                                                                 \n",
      " conv1d_132 (Conv1D)         (None, 24, 48)            6768      \n",
      "                                                                 \n",
      " dropout_237 (Dropout)       (None, 24, 48)            0         \n",
      "                                                                 \n",
      " conv1d_133 (Conv1D)         (None, 20, 64)            15424     \n",
      "                                                                 \n",
      " dropout_238 (Dropout)       (None, 20, 64)            0         \n",
      "                                                                 \n",
      " conv1d_134 (Conv1D)         (None, 18, 96)            18528     \n",
      "                                                                 \n",
      " dropout_239 (Dropout)       (None, 18, 96)            0         \n",
      "                                                                 \n",
      " lstm_129 (LSTM)             (None, 18, 128)           115200    \n",
      "                                                                 \n",
      " dropout_240 (Dropout)       (None, 18, 128)           0         \n",
      "                                                                 \n",
      " lstm_130 (LSTM)             (None, 128)               131584    \n",
      "                                                                 \n",
      " dropout_241 (Dropout)       (None, 128)               0         \n",
      "                                                                 \n",
      " dense_107 (Dense)           (None, 512)               66048     \n",
      "                                                                 \n",
      " dropout_242 (Dropout)       (None, 512)               0         \n",
      "                                                                 \n",
      " dense_108 (Dense)           (None, 10)                5130      \n",
      "                                                                 \n",
      "=================================================================\n",
      "Total params: 358,794\n",
      "Trainable params: 358,738\n",
      "Non-trainable params: 56\n",
      "_________________________________________________________________\n",
      "Epoch 1/3\n",
      "605/605 [==============================] - 49s 74ms/step - loss: 0.9840 - categorical_accuracy: 0.6840\n",
      "Epoch 2/3\n",
      "605/605 [==============================] - 45s 74ms/step - loss: 0.6905 - categorical_accuracy: 0.7914\n",
      "Epoch 3/3\n",
      "605/605 [==============================] - 45s 74ms/step - loss: 0.6166 - categorical_accuracy: 0.8089\n",
      "21/21 [==============================] - 1s 21ms/step\n",
      "Model: \"sequential_64\"\n",
      "_________________________________________________________________\n",
      " Layer (type)                Output Shape              Param #   \n",
      "=================================================================\n",
      " batch_normalization_39 (Bat  (None, 28, 28)           112       \n",
      " chNormalization)                                                \n",
      "                                                                 \n",
      " conv1d_135 (Conv1D)         (None, 24, 48)            6768      \n",
      "                                                                 \n",
      " dropout_243 (Dropout)       (None, 24, 48)            0         \n",
      "                                                                 \n",
      " conv1d_136 (Conv1D)         (None, 20, 64)            15424     \n",
      "                                                                 \n",
      " dropout_244 (Dropout)       (None, 20, 64)            0         \n",
      "                                                                 \n",
      " conv1d_137 (Conv1D)         (None, 18, 96)            18528     \n",
      "                                                                 \n",
      " dropout_245 (Dropout)       (None, 18, 96)            0         \n",
      "                                                                 \n",
      " lstm_131 (LSTM)             (None, 18, 128)           115200    \n",
      "                                                                 \n",
      " dropout_246 (Dropout)       (None, 18, 128)           0         \n",
      "                                                                 \n",
      " lstm_132 (LSTM)             (None, 128)               131584    \n",
      "                                                                 \n",
      " dropout_247 (Dropout)       (None, 128)               0         \n",
      "                                                                 \n",
      " dense_109 (Dense)           (None, 512)               66048     \n",
      "                                                                 \n",
      " dropout_248 (Dropout)       (None, 512)               0         \n",
      "                                                                 \n",
      " dense_110 (Dense)           (None, 10)                5130      \n",
      "                                                                 \n",
      "=================================================================\n",
      "Total params: 358,794\n",
      "Trainable params: 358,738\n",
      "Non-trainable params: 56\n",
      "_________________________________________________________________\n",
      "Epoch 1/3\n",
      "605/605 [==============================] - 50s 73ms/step - loss: 0.9655 - categorical_accuracy: 0.6862\n",
      "Epoch 2/3\n",
      "605/605 [==============================] - 45s 75ms/step - loss: 0.6807 - categorical_accuracy: 0.7918\n",
      "Epoch 3/3\n",
      "605/605 [==============================] - 45s 74ms/step - loss: 0.6187 - categorical_accuracy: 0.8112\n",
      "21/21 [==============================] - 1s 21ms/step\n",
      "\n",
      "Tempo de treinamento: 370.613780\n",
      "Tempo de classificação: 1.639833\n",
      "Acurácia: 0.837149\n",
      "\n",
      "Micro Precisão: 0.837149\n",
      "Micro Revocação: 0.837149\n",
      "Micro F1: 0.837149\n",
      "\n",
      "Macro Precisão: 0.843210\n",
      "Macro Revocação: 0.837136\n",
      "Macro F1: 0.835973\n",
      "\n",
      "Weighted Precisão: 0.844618\n",
      "Weighted Revocação: 0.837149\n",
      "Weighted F1: 0.836783\n",
      "\n",
      "Samples Precisão: 0.837149\n",
      "Samples Revocação: 0.837149\n",
      "Samples F1: 0.837149\n"
     ]
    }
   ],
   "source": [
    "scoring =  ['accuracy',\n",
    "            'recall_micro','precision_micro','f1_micro',\n",
    "            'recall_macro','precision_macro','f1_macro',\n",
    "            'recall_weighted','precision_weighted','f1_weighted',\n",
    "            'recall_samples','precision_samples','f1_samples']\n",
    "\n",
    "grid_rnn_results = cross_validate(grid_rnn, x_test, y_test,scoring=scoring, cv=30)"
   ]
  },
  {
   "cell_type": "code",
   "execution_count": 102,
   "metadata": {
    "colab": {
     "base_uri": "https://localhost:8080/"
    },
    "executionInfo": {
     "elapsed": 4,
     "status": "ok",
     "timestamp": 1638885147358,
     "user": {
      "displayName": "Lucas Nascimento Barros",
      "photoUrl": "https://lh3.googleusercontent.com/a-/AOh14GgrwsR4kAWXNmM-C4P-CXv6DetVJyf56vtdC_IkQw=s64",
      "userId": "06035058941685765175"
     },
     "user_tz": 180
    },
    "id": "FZkW68fQKG9x",
    "outputId": "3fb126a6-66f8-4aaf-a322-55ab080c889b"
   },
   "outputs": [
    {
     "data": {
      "text/plain": [
       "{'fit_time': array([359.142097  , 346.71175289, 346.30259538, 347.35191774,\n",
       "        352.45979095, 357.71352983, 358.6478889 , 349.82196951,\n",
       "        396.73274636, 349.66647577, 353.42650223, 359.633044  ,\n",
       "        355.24862576, 364.39727354, 356.08704305, 367.90159488,\n",
       "        356.11595798, 398.24086976, 398.74042416, 369.15675712,\n",
       "        366.70816851, 377.54280615, 411.86486316, 375.78288817,\n",
       "        376.29998946, 415.36066389, 372.08021307, 406.30381131,\n",
       "        404.43653798, 368.53458786]),\n",
       " 'score_time': array([7.65484715, 1.30958939, 1.31947136, 2.25521994, 1.35979271,\n",
       "        1.29965949, 1.36193419, 1.3427949 , 1.34427285, 1.37796235,\n",
       "        1.39594913, 1.33110166, 1.36808658, 1.4110229 , 1.32669926,\n",
       "        1.40488172, 1.53719687, 1.35341787, 1.56459761, 1.37042522,\n",
       "        1.36981678, 1.59804153, 1.3693893 , 1.46540141, 1.58341885,\n",
       "        1.45135236, 1.40697837, 1.36776328, 1.44003177, 1.4538765 ]),\n",
       " 'test_accuracy': array([0.83808096, 0.81709145, 0.82008996, 0.83808096, 0.84257871,\n",
       "        0.84557721, 0.82908546, 0.85607196, 0.79910045, 0.82758621,\n",
       "        0.8095952 , 0.82158921, 0.86656672, 0.84257871, 0.84107946,\n",
       "        0.85757121, 0.83958021, 0.84857571, 0.85157421, 0.86956522,\n",
       "        0.84834835, 0.85435435, 0.81531532, 0.82732733, 0.81081081,\n",
       "        0.84534535, 0.80930931, 0.85435435, 0.82882883, 0.85885886]),\n",
       " 'test_f1_macro': array([0.8332304 , 0.8104163 , 0.82062372, 0.83940733, 0.8417603 ,\n",
       "        0.84326004, 0.82355638, 0.85519921, 0.79665544, 0.82756382,\n",
       "        0.80828426, 0.82471897, 0.86573535, 0.84186794, 0.84317128,\n",
       "        0.85216457, 0.84159385, 0.8497449 , 0.84710787, 0.87171345,\n",
       "        0.84531744, 0.85046612, 0.81359147, 0.82765095, 0.80924361,\n",
       "        0.84631979, 0.8126992 , 0.85698966, 0.82416575, 0.85496748]),\n",
       " 'test_f1_micro': array([0.83808096, 0.81709145, 0.82008996, 0.83808096, 0.84257871,\n",
       "        0.84557721, 0.82908546, 0.85607196, 0.79910045, 0.82758621,\n",
       "        0.8095952 , 0.82158921, 0.86656672, 0.84257871, 0.84107946,\n",
       "        0.85757121, 0.83958021, 0.84857571, 0.85157421, 0.86956522,\n",
       "        0.84834835, 0.85435435, 0.81531532, 0.82732733, 0.81081081,\n",
       "        0.84534535, 0.80930931, 0.85435435, 0.82882883, 0.85885886]),\n",
       " 'test_f1_samples': array([0.83808096, 0.81709145, 0.82008996, 0.83808096, 0.84257871,\n",
       "        0.84557721, 0.82908546, 0.85607196, 0.79910045, 0.82758621,\n",
       "        0.8095952 , 0.82158921, 0.86656672, 0.84257871, 0.84107946,\n",
       "        0.85757121, 0.83958021, 0.84857571, 0.85157421, 0.86956522,\n",
       "        0.84834835, 0.85435435, 0.81531532, 0.82732733, 0.81081081,\n",
       "        0.84534535, 0.80930931, 0.85435435, 0.82882883, 0.85885886]),\n",
       " 'test_f1_weighted': array([0.83898224, 0.81420878, 0.82014223, 0.84047102, 0.84186428,\n",
       "        0.845815  , 0.82812219, 0.8571775 , 0.79845224, 0.82710133,\n",
       "        0.80958334, 0.82444143, 0.86568302, 0.84190142, 0.84091885,\n",
       "        0.85701205, 0.84053325, 0.84976546, 0.84934999, 0.86951709,\n",
       "        0.84664842, 0.85391312, 0.81269062, 0.82806634, 0.80845966,\n",
       "        0.84645124, 0.80769957, 0.85385457, 0.82784237, 0.85683527]),\n",
       " 'test_precision_macro': array([0.84305742, 0.82590271, 0.82486207, 0.84847375, 0.84854586,\n",
       "        0.85146626, 0.82933433, 0.85965371, 0.8078689 , 0.83666532,\n",
       "        0.81087814, 0.83788924, 0.87960887, 0.84681465, 0.84766549,\n",
       "        0.85544722, 0.8495117 , 0.8523289 , 0.85113697, 0.87522696,\n",
       "        0.85314589, 0.85406232, 0.8171672 , 0.83567083, 0.82006883,\n",
       "        0.85339404, 0.8254825 , 0.86119693, 0.82565918, 0.86810146]),\n",
       " 'test_precision_micro': array([0.83808096, 0.81709145, 0.82008996, 0.83808096, 0.84257871,\n",
       "        0.84557721, 0.82908546, 0.85607196, 0.79910045, 0.82758621,\n",
       "        0.8095952 , 0.82158921, 0.86656672, 0.84257871, 0.84107946,\n",
       "        0.85757121, 0.83958021, 0.84857571, 0.85157421, 0.86956522,\n",
       "        0.84834835, 0.85435435, 0.81531532, 0.82732733, 0.81081081,\n",
       "        0.84534535, 0.80930931, 0.85435435, 0.82882883, 0.85885886]),\n",
       " 'test_precision_samples': array([0.83808096, 0.81709145, 0.82008996, 0.83808096, 0.84257871,\n",
       "        0.84557721, 0.82908546, 0.85607196, 0.79910045, 0.82758621,\n",
       "        0.8095952 , 0.82158921, 0.86656672, 0.84257871, 0.84107946,\n",
       "        0.85757121, 0.83958021, 0.84857571, 0.85157421, 0.86956522,\n",
       "        0.84834835, 0.85435435, 0.81531532, 0.82732733, 0.81081081,\n",
       "        0.84534535, 0.80930931, 0.85435435, 0.82882883, 0.85885886]),\n",
       " 'test_precision_weighted': array([0.84943255, 0.82546853, 0.82439574, 0.8495911 , 0.84807166,\n",
       "        0.8516761 , 0.83266237, 0.86507744, 0.8097767 , 0.84069498,\n",
       "        0.81523608, 0.84005947, 0.87672317, 0.84576361, 0.8449146 ,\n",
       "        0.86375118, 0.84810705, 0.85730137, 0.85341961, 0.87356233,\n",
       "        0.85397269, 0.85781281, 0.81536277, 0.83508646, 0.82035585,\n",
       "        0.85877775, 0.82317775, 0.86061375, 0.82857112, 0.86911055]),\n",
       " 'test_recall_macro': array([0.83361971, 0.80967497, 0.82049432, 0.83703272, 0.84207058,\n",
       "        0.84080815, 0.82346667, 0.85855445, 0.79791717, 0.83226987,\n",
       "        0.81109033, 0.82541541, 0.86379862, 0.84154284, 0.84331198,\n",
       "        0.85751744, 0.84014966, 0.85402847, 0.84936295, 0.8722435 ,\n",
       "        0.84692327, 0.85104789, 0.81566074, 0.82620116, 0.81277503,\n",
       "        0.85055695, 0.81603079, 0.8597712 , 0.8243195 , 0.85643532]),\n",
       " 'test_recall_micro': array([0.83808096, 0.81709145, 0.82008996, 0.83808096, 0.84257871,\n",
       "        0.84557721, 0.82908546, 0.85607196, 0.79910045, 0.82758621,\n",
       "        0.8095952 , 0.82158921, 0.86656672, 0.84257871, 0.84107946,\n",
       "        0.85757121, 0.83958021, 0.84857571, 0.85157421, 0.86956522,\n",
       "        0.84834835, 0.85435435, 0.81531532, 0.82732733, 0.81081081,\n",
       "        0.84534535, 0.80930931, 0.85435435, 0.82882883, 0.85885886]),\n",
       " 'test_recall_samples': array([0.83808096, 0.81709145, 0.82008996, 0.83808096, 0.84257871,\n",
       "        0.84557721, 0.82908546, 0.85607196, 0.79910045, 0.82758621,\n",
       "        0.8095952 , 0.82158921, 0.86656672, 0.84257871, 0.84107946,\n",
       "        0.85757121, 0.83958021, 0.84857571, 0.85157421, 0.86956522,\n",
       "        0.84834835, 0.85435435, 0.81531532, 0.82732733, 0.81081081,\n",
       "        0.84534535, 0.80930931, 0.85435435, 0.82882883, 0.85885886]),\n",
       " 'test_recall_weighted': array([0.83808096, 0.81709145, 0.82008996, 0.83808096, 0.84257871,\n",
       "        0.84557721, 0.82908546, 0.85607196, 0.79910045, 0.82758621,\n",
       "        0.8095952 , 0.82158921, 0.86656672, 0.84257871, 0.84107946,\n",
       "        0.85757121, 0.83958021, 0.84857571, 0.85157421, 0.86956522,\n",
       "        0.84834835, 0.85435435, 0.81531532, 0.82732733, 0.81081081,\n",
       "        0.84534535, 0.80930931, 0.85435435, 0.82882883, 0.85885886])}"
      ]
     },
     "execution_count": 102,
     "metadata": {},
     "output_type": "execute_result"
    }
   ],
   "source": [
    "grid_rnn_results"
   ]
  },
  {
   "cell_type": "code",
   "execution_count": 118,
   "metadata": {
    "colab": {
     "base_uri": "https://localhost:8080/"
    },
    "executionInfo": {
     "elapsed": 258,
     "status": "ok",
     "timestamp": 1638893600867,
     "user": {
      "displayName": "Lucas Nascimento Barros",
      "photoUrl": "https://lh3.googleusercontent.com/a-/AOh14GgrwsR4kAWXNmM-C4P-CXv6DetVJyf56vtdC_IkQw=s64",
      "userId": "06035058941685765175"
     },
     "user_tz": 180
    },
    "id": "VD8x8UiYq6Hi",
    "outputId": "53e72596-f8e7-4fde-ea9f-a28f4890d1ca"
   },
   "outputs": [
    {
     "name": "stdout",
     "output_type": "stream",
     "text": [
      "Tempo de treinamento: 370.613780\n",
      "Tempo de classificação: 1.639833\n",
      "Acurácia: 0.837149\n",
      "\n",
      "Micro Precisão: 0.837149\n",
      "Micro Revocação: 0.837149\n",
      "Micro F1: 0.837149\n",
      "\n",
      "Macro Precisão: 0.843210\n",
      "Macro Revocação: 0.837136\n",
      "Macro F1: 0.835973\n",
      "\n",
      "Weighted Precisão: 0.844618\n",
      "Weighted Revocação: 0.837149\n",
      "Weighted F1: 0.836783\n",
      "\n",
      "Samples Precisão: 0.837149\n",
      "Samples Revocação: 0.837149\n",
      "Samples F1: 0.837149\n"
     ]
    }
   ],
   "source": [
    "print(\"Tempo de treinamento: %f\" % grid_rnn_results['fit_time'].mean())\n",
    "print(\"Tempo de classificação: %f\" % grid_rnn_results['score_time'].mean())\n",
    "print(\"Acurácia: %f\" % grid_rnn_results['test_accuracy'].mean())\n",
    "print()\n",
    "print(\"Micro Precisão: %f\" % grid_rnn_results['test_precision_micro'].mean())\n",
    "print(\"Micro Revocação: %f\" % grid_rnn_results['test_recall_micro'].mean())\n",
    "print(\"Micro F1: %f\" % grid_rnn_results['test_f1_micro'].mean())\n",
    "print()\n",
    "print(\"Macro Precisão: %f\" % grid_rnn_results['test_precision_macro'].mean())\n",
    "print(\"Macro Revocação: %f\" % grid_rnn_results['test_recall_macro'].mean())\n",
    "print(\"Macro F1: %f\" % grid_rnn_results['test_f1_macro'].mean())\n",
    "print()\n",
    "print(\"Weighted Precisão: %f\" % grid_rnn_results['test_precision_weighted'].mean())\n",
    "print(\"Weighted Revocação: %f\" % grid_rnn_results['test_recall_weighted'].mean())\n",
    "print(\"Weighted F1: %f\" % grid_rnn_results['test_f1_weighted'].mean())\n",
    "print()\n",
    "print(\"Samples Precisão: %f\" % grid_rnn_results['test_precision_samples'].mean())\n",
    "print(\"Samples Revocação: %f\" % grid_rnn_results['test_recall_samples'].mean())\n",
    "print(\"Samples F1: %f\" % grid_rnn_results['test_f1_samples'].mean())"
   ]
  },
  {
   "cell_type": "markdown",
   "metadata": {
    "id": "BvhSlSBfmUtk"
   },
   "source": [
    "# Teste estatístico"
   ]
  },
  {
   "cell_type": "code",
   "execution_count": 139,
   "metadata": {
    "executionInfo": {
     "elapsed": 278,
     "status": "ok",
     "timestamp": 1638895928515,
     "user": {
      "displayName": "Lucas Nascimento Barros",
      "photoUrl": "https://lh3.googleusercontent.com/a-/AOh14GgrwsR4kAWXNmM-C4P-CXv6DetVJyf56vtdC_IkQw=s64",
      "userId": "06035058941685765175"
     },
     "user_tz": 180
    },
    "id": "kVcVUyVErIlj"
   },
   "outputs": [],
   "source": [
    "alfa = 0.05"
   ]
  },
  {
   "cell_type": "code",
   "execution_count": 155,
   "metadata": {
    "colab": {
     "base_uri": "https://localhost:8080/"
    },
    "executionInfo": {
     "elapsed": 259,
     "status": "ok",
     "timestamp": 1638897891762,
     "user": {
      "displayName": "Lucas Nascimento Barros",
      "photoUrl": "https://lh3.googleusercontent.com/a-/AOh14GgrwsR4kAWXNmM-C4P-CXv6DetVJyf56vtdC_IkQw=s64",
      "userId": "06035058941685765175"
     },
     "user_tz": 180
    },
    "id": "ljGZFy7IqO6N",
    "outputId": "58922faa-4aed-4afc-cc54-f0e49a0b9495"
   },
   "outputs": [
    {
     "name": "stdout",
     "output_type": "stream",
     "text": [
      "Normalidade True\n",
      "(0.9820205569267273, 0.8763555288314819)\n",
      "\n",
      "Normalidade True\n",
      "(0.9820205569267273, 0.8763555288314819)\n",
      "\n",
      "Normalidade True\n",
      "(0.9820205569267273, 0.8763555288314819)\n",
      "\n",
      "Normalidade True\n",
      "(0.9820205569267273, 0.8763555288314819)\n"
     ]
    }
   ],
   "source": [
    "#CNN\n",
    "from scipy.stats import shapiro\n",
    "\n",
    "result_shapiro = shapiro(grid_cnn_results['test_accuracy'])\n",
    "print('Distribuição normal', result_shapiro[1] > alfa)\n",
    "print(result_shapiro)\n",
    "print()\n",
    "result_shapiro = shapiro(grid_cnn_results['test_precision_samples'])\n",
    "print('Distribuição normal', result_shapiro[1] > alfa)\n",
    "print(result_shapiro)\n",
    "print()\n",
    "result_shapiro = shapiro(grid_cnn_results['test_recall_samples'])\n",
    "print('Distribuição normal', result_shapiro[1] > alfa)\n",
    "print(result_shapiro)\n",
    "print()\n",
    "result_shapiro = shapiro(grid_cnn_results['test_f1_samples'])\n",
    "print('Distribuição normal', result_shapiro[1] > alfa)\n",
    "print(result_shapiro)"
   ]
  },
  {
   "cell_type": "code",
   "execution_count": 156,
   "metadata": {
    "colab": {
     "base_uri": "https://localhost:8080/"
    },
    "executionInfo": {
     "elapsed": 257,
     "status": "ok",
     "timestamp": 1638897895052,
     "user": {
      "displayName": "Lucas Nascimento Barros",
      "photoUrl": "https://lh3.googleusercontent.com/a-/AOh14GgrwsR4kAWXNmM-C4P-CXv6DetVJyf56vtdC_IkQw=s64",
      "userId": "06035058941685765175"
     },
     "user_tz": 180
    },
    "id": "bAvA9HDLrHyA",
    "outputId": "2086b776-cb3e-4843-8b6f-9783f231a417"
   },
   "outputs": [
    {
     "name": "stdout",
     "output_type": "stream",
     "text": [
      "Normalidade True\n",
      "(0.970931351184845, 0.5649627447128296)\n",
      "\n",
      "Normalidade True\n",
      "(0.970931351184845, 0.5649627447128296)\n",
      "\n",
      "Normalidade True\n",
      "(0.970931351184845, 0.5649627447128296)\n",
      "\n",
      "Normalidade True\n",
      "(0.970931351184845, 0.5649627447128296)\n"
     ]
    }
   ],
   "source": [
    "#RNN\n",
    "from scipy.stats import shapiro\n",
    "\n",
    "result_shapiro = shapiro(grid_rnn_results['test_accuracy'])\n",
    "print('Distribuição normal', result_shapiro[1] > alfa)\n",
    "print(result_shapiro)\n",
    "print()\n",
    "result_shapiro = shapiro(grid_rnn_results['test_precision_samples'])\n",
    "print('Distribuição normal', result_shapiro[1] > alfa)\n",
    "print(result_shapiro)\n",
    "print()\n",
    "result_shapiro = shapiro(grid_rnn_results['test_recall_samples'])\n",
    "print('Distribuição normal', result_shapiro[1] > alfa)\n",
    "print(result_shapiro)\n",
    "print()\n",
    "result_shapiro = shapiro(grid_rnn_results['test_f1_samples'])\n",
    "print('Distribuição normal', result_shapiro[1] > alfa)\n",
    "print(result_shapiro)"
   ]
  },
  {
   "cell_type": "code",
   "execution_count": 157,
   "metadata": {
    "colab": {
     "base_uri": "https://localhost:8080/"
    },
    "executionInfo": {
     "elapsed": 277,
     "status": "ok",
     "timestamp": 1638897899590,
     "user": {
      "displayName": "Lucas Nascimento Barros",
      "photoUrl": "https://lh3.googleusercontent.com/a-/AOh14GgrwsR4kAWXNmM-C4P-CXv6DetVJyf56vtdC_IkQw=s64",
      "userId": "06035058941685765175"
     },
     "user_tz": 180
    },
    "id": "UL_uIs-imbO4",
    "outputId": "d0403752-b280-4656-dae7-f7221e1394ce"
   },
   "outputs": [
    {
     "name": "stdout",
     "output_type": "stream",
     "text": [
      "Homogeneidade True\n",
      "LeveneResult(statistic=0.8685795415793208, pvalue=0.3552122428213834)\n",
      "\n",
      "Homogeneidade True\n",
      "LeveneResult(statistic=0.8685795415793208, pvalue=0.3552122428213834)\n",
      "\n",
      "Homogeneidade True\n",
      "LeveneResult(statistic=0.8685795415793208, pvalue=0.3552122428213834)\n",
      "\n",
      "Homogeneidade True\n",
      "LeveneResult(statistic=0.8685795415793208, pvalue=0.3552122428213834)\n"
     ]
    }
   ],
   "source": [
    "#CNN x RNN levene\n",
    "from scipy.stats import levene\n",
    "\n",
    "result_levene = levene(grid_cnn_results['test_accuracy'],grid_rnn_results['test_accuracy'])\n",
    "print('Variância homogênea', result_levene[1] > alfa)\n",
    "print(result_levene)\n",
    "print()\n",
    "result_levene = levene(grid_cnn_results['test_precision_samples'],grid_rnn_results['test_precision_samples'])\n",
    "print('Variância homogênea', result_levene[1] > alfa)\n",
    "print(result_levene)\n",
    "print()\n",
    "result_levene = levene(grid_cnn_results['test_recall_samples'],grid_rnn_results['test_recall_samples'])\n",
    "print('Variância homogênea', result_levene[1] > alfa)\n",
    "print(result_levene)\n",
    "print()\n",
    "result_levene = levene(grid_cnn_results['test_f1_samples'],grid_rnn_results['test_f1_samples'])\n",
    "print('Variância homogênea', result_levene[1] > alfa)\n",
    "print(result_levene)"
   ]
  },
  {
   "cell_type": "code",
   "execution_count": 160,
   "metadata": {
    "colab": {
     "base_uri": "https://localhost:8080/"
    },
    "executionInfo": {
     "elapsed": 256,
     "status": "ok",
     "timestamp": 1638898578467,
     "user": {
      "displayName": "Lucas Nascimento Barros",
      "photoUrl": "https://lh3.googleusercontent.com/a-/AOh14GgrwsR4kAWXNmM-C4P-CXv6DetVJyf56vtdC_IkQw=s64",
      "userId": "06035058941685765175"
     },
     "user_tz": 180
    },
    "id": "FiNqu6pTw7vV",
    "outputId": "76054743-baf6-4a52-a2ef-02a1a8c6f138"
   },
   "outputs": [
    {
     "name": "stdout",
     "output_type": "stream",
     "text": [
      "Mesma distribuição False\n",
      "F_onewayResult(statistic=194.44570324410586, pvalue=3.543606502533757e-20)\n",
      "\n",
      "Mesma distribuição False\n",
      "F_onewayResult(statistic=194.44570324410586, pvalue=3.543606502533757e-20)\n",
      "\n",
      "Mesma distribuição False\n",
      "F_onewayResult(statistic=194.44570324410586, pvalue=3.543606502533757e-20)\n",
      "\n",
      "Mesma distribuição False\n",
      "F_onewayResult(statistic=194.44570324410586, pvalue=3.543606502533757e-20)\n"
     ]
    }
   ],
   "source": [
    "#CNN x RNN ANOVA\n",
    "#Para fazer esse teste as distribuições precisam ser normais e homogêneas\n",
    "\n",
    "from scipy.stats import f_oneway\n",
    "\n",
    "result_f_oneway = f_oneway(grid_cnn_results['test_accuracy'],grid_rnn_results['test_accuracy'])\n",
    "print('Mesma distribuição', result_f_oneway[1] > alfa)\n",
    "print(result_f_oneway)\n",
    "print()\n",
    "result_f_oneway = f_oneway(grid_cnn_results['test_precision_samples'],grid_rnn_results['test_precision_samples'])\n",
    "print('Mesma distribuição', result_f_oneway[1] > alfa)\n",
    "print(result_f_oneway)\n",
    "print()\n",
    "result_f_oneway = f_oneway(grid_cnn_results['test_recall_samples'],grid_rnn_results['test_recall_samples'])\n",
    "print('Mesma distribuição', result_f_oneway[1] > alfa)\n",
    "print(result_f_oneway)\n",
    "print()\n",
    "result_f_oneway = f_oneway(grid_cnn_results['test_f1_samples'],grid_rnn_results['test_f1_samples'])\n",
    "print('Mesma distribuição', result_f_oneway[1] > alfa)\n",
    "print(result_f_oneway)"
   ]
  },
  {
   "cell_type": "code",
   "execution_count": 159,
   "metadata": {
    "colab": {
     "base_uri": "https://localhost:8080/"
    },
    "executionInfo": {
     "elapsed": 253,
     "status": "ok",
     "timestamp": 1638897945913,
     "user": {
      "displayName": "Lucas Nascimento Barros",
      "photoUrl": "https://lh3.googleusercontent.com/a-/AOh14GgrwsR4kAWXNmM-C4P-CXv6DetVJyf56vtdC_IkQw=s64",
      "userId": "06035058941685765175"
     },
     "user_tz": 180
    },
    "id": "6tRuBXlap0YA",
    "outputId": "4efe198f-3ada-417b-de86-114fa2a7989a"
   },
   "outputs": [
    {
     "name": "stdout",
     "output_type": "stream",
     "text": [
      "distribuição homogênea False\n",
      "WilcoxonResult(statistic=0.0, pvalue=1.7333066441991056e-06)\n",
      "\n",
      "distribuição homogênea False\n",
      "WilcoxonResult(statistic=0.0, pvalue=1.7333066441991056e-06)\n",
      "\n",
      "distribuição homogênea False\n",
      "WilcoxonResult(statistic=0.0, pvalue=1.7333066441991056e-06)\n",
      "\n",
      "distribuição homogênea False\n",
      "WilcoxonResult(statistic=0.0, pvalue=1.7333066441991056e-06)\n"
     ]
    }
   ],
   "source": [
    "#CNN x RNN wilcoxon\n",
    "from scipy.stats import wilcoxon\n",
    "\n",
    "result_wilcoxon = wilcoxon(grid_cnn_results['test_accuracy'],grid_rnn_results['test_accuracy'])\n",
    "print('Mesma distribuição', result_wilcoxon[1] > alfa)\n",
    "print(result_wilcoxon)\n",
    "print()\n",
    "result_wilcoxon = wilcoxon(grid_cnn_results['test_precision_samples'],grid_rnn_results['test_precision_samples'])\n",
    "print('Mesma distribuição', result_wilcoxon[1] > alfa)\n",
    "print(result_wilcoxon)\n",
    "print()\n",
    "result_wilcoxon = wilcoxon(grid_cnn_results['test_recall_samples'],grid_rnn_results['test_recall_samples'])\n",
    "print('Mesma distribuição', result_wilcoxon[1] > alfa)\n",
    "print(result_wilcoxon)\n",
    "print()\n",
    "result_wilcoxon = wilcoxon(grid_cnn_results['test_f1_samples'],grid_rnn_results['test_f1_samples'])\n",
    "print('Mesma distribuição', result_wilcoxon[1] > alfa)\n",
    "print(result_wilcoxon)"
   ]
  },
  {
   "cell_type": "code",
   "execution_count": 254,
   "metadata": {
    "colab": {
     "base_uri": "https://localhost:8080/",
     "height": 629
    },
    "executionInfo": {
     "elapsed": 675,
     "status": "ok",
     "timestamp": 1638907259750,
     "user": {
      "displayName": "Lucas Nascimento Barros",
      "photoUrl": "https://lh3.googleusercontent.com/a-/AOh14GgrwsR4kAWXNmM-C4P-CXv6DetVJyf56vtdC_IkQw=s64",
      "userId": "06035058941685765175"
     },
     "user_tz": 180
    },
    "id": "vO3KS6mMde8o",
    "outputId": "3592d74a-e933-4121-ee52-205fcb193e4b"
   },
   "outputs": [
    {
     "data": {
      "image/png": "[encoded data removed]",
      "text/plain": [
       "<Figure size 1332x756 with 1 Axes>"
      ]
     },
     "metadata": {},
     "output_type": "display_data"
    }
   ],
   "source": [
    "fig = matplotlib.pyplot.gcf()\n",
    "fig.set_size_inches(18.5, 10.5)\n",
    "\n",
    "x1 = grid_cnn_results['test_accuracy']\n",
    "x2 = grid_rnn_results['test_accuracy']\n",
    "x3 = grid_cnn_results['test_precision_samples']\n",
    "x4 = grid_rnn_results['test_precision_samples']\n",
    "x5 = grid_cnn_results['test_recall_samples']\n",
    "x6 = grid_rnn_results['test_recall_samples']\n",
    "x7 = grid_cnn_results['test_f1_samples']\n",
    "x8 = grid_rnn_results['test_f1_samples']\n",
    "\n",
    "n_bins = \"auto\"\n",
    "x_multi = [x1,x2,x3,x4,x5,x6,x7,x8]\n",
    "plt.hist(x_multi, n_bins, histtype='bar')\n",
    "plt.show()"
   ]
  }
 ],
 "metadata": {
  "accelerator": "TPU",
  "colab": {
   "collapsed_sections": [],
   "name": "Cópia de Reconhecimento de Desenhos.ipynb",
   "provenance": [
    {
     "file_id": "1NgifiwV4BnZmxJe_ii5MhGq1gptmN_Ol",
     "timestamp": 1638908320916
    }
   ]
  },
  "kernelspec": {
   "display_name": "Python 3 (ipykernel)",
   "language": "python",
   "name": "python3"
  },
  "language_info": {
   "codemirror_mode": {
    "name": "ipython",
    "version": 3
   },
   "file_extension": ".py",
   "mimetype": "text/x-python",
   "name": "python",
   "nbconvert_exporter": "python",
   "pygments_lexer": "ipython3",
   "version": "3.9.7"
  }
 },
 "nbformat": 4,
 "nbformat_minor": 1
}
